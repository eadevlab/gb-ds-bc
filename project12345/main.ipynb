{
 "cells": [
  {
   "cell_type": "markdown",
   "metadata": {
    "collapsed": true,
    "pycharm": {
     "name": "#%% md\n"
    }
   },
   "source": [
    "# Анализ поведения клиентов на примере сайта GB"
   ]
  },
  {
   "cell_type": "markdown",
   "metadata": {
    "pycharm": {
     "name": "#%% md\n"
    }
   },
   "source": [
    "## Этап 1. Загрузка данных. Проверка корректности типов данных"
   ]
  },
  {
   "cell_type": "markdown",
   "source": [
    "Самый интересный параметр в данном датасете claim (признак отправки формы), в связи с этим все исследования будем строить вокруг этого параметра"
   ],
   "metadata": {
    "collapsed": false,
    "pycharm": {
     "name": "#%% md\n"
    }
   }
  },
  {
   "cell_type": "code",
   "execution_count": 190,
   "metadata": {
    "pycharm": {
     "name": "#%%\n"
    }
   },
   "outputs": [],
   "source": [
    "import pandas as pd\n",
    "import numpy as np\n",
    "import seaborn as sns\n",
    "import matplotlib.pyplot as plt\n",
    "import warnings\n",
    "warnings.filterwarnings('ignore')"
   ]
  },
  {
   "cell_type": "code",
   "execution_count": 191,
   "metadata": {
    "pycharm": {
     "name": "#%%\n"
    }
   },
   "outputs": [
    {
     "data": {
      "text/plain": "         session_id  claim  60sec  scroll_90    hit_date  \\\n0  4358a11f0d16be6e      0      0          1  2021-12-01   \n1  133509b7ff9a586c      0      0          0  2021-12-01   \n2  8b23cd36f2b08dcd      0      0          0  2021-12-01   \n3  50de4c060fd128f3      0      1          1  2021-12-01   \n4  c2ca3cc9a67c749b      0      0          0  2021-12-01   \n\n                                  referer_url  \\\n0                     https://gb.ru/education   \n1                     https://www.google.com/   \n2  https://gb.ru/tests/352/trials/2238911/run   \n3                  https://gb.ru/courses/1165   \n4                                         NaN   \n\n                                      url utm_source utm_medium  gender  age  \\\n0            https://gb.ru/comms/calendar        NaN        NaN       0   39   \n1       https://gb.ru/courses/programming     google        cpc      -1   -1   \n2  https://gb.ru/tests/352/trials/2238911        NaN        NaN       1   49   \n3                      https://gb.ru/a/a1        NaN        NaN      -1   -1   \n4                     https://gb.ru/login        NaN        NaN       0   23   \n\n   touch_screen  has_vk_id  has_ok_id  \n0             1          1          0  \n1             2          0          0  \n2             1          1          1  \n3             1          1          0  \n4             2          1          0  ",
      "text/html": "<div>\n<style scoped>\n    .dataframe tbody tr th:only-of-type {\n        vertical-align: middle;\n    }\n\n    .dataframe tbody tr th {\n        vertical-align: top;\n    }\n\n    .dataframe thead th {\n        text-align: right;\n    }\n</style>\n<table border=\"1\" class=\"dataframe\">\n  <thead>\n    <tr style=\"text-align: right;\">\n      <th></th>\n      <th>session_id</th>\n      <th>claim</th>\n      <th>60sec</th>\n      <th>scroll_90</th>\n      <th>hit_date</th>\n      <th>referer_url</th>\n      <th>url</th>\n      <th>utm_source</th>\n      <th>utm_medium</th>\n      <th>gender</th>\n      <th>age</th>\n      <th>touch_screen</th>\n      <th>has_vk_id</th>\n      <th>has_ok_id</th>\n    </tr>\n  </thead>\n  <tbody>\n    <tr>\n      <th>0</th>\n      <td>4358a11f0d16be6e</td>\n      <td>0</td>\n      <td>0</td>\n      <td>1</td>\n      <td>2021-12-01</td>\n      <td>https://gb.ru/education</td>\n      <td>https://gb.ru/comms/calendar</td>\n      <td>NaN</td>\n      <td>NaN</td>\n      <td>0</td>\n      <td>39</td>\n      <td>1</td>\n      <td>1</td>\n      <td>0</td>\n    </tr>\n    <tr>\n      <th>1</th>\n      <td>133509b7ff9a586c</td>\n      <td>0</td>\n      <td>0</td>\n      <td>0</td>\n      <td>2021-12-01</td>\n      <td>https://www.google.com/</td>\n      <td>https://gb.ru/courses/programming</td>\n      <td>google</td>\n      <td>cpc</td>\n      <td>-1</td>\n      <td>-1</td>\n      <td>2</td>\n      <td>0</td>\n      <td>0</td>\n    </tr>\n    <tr>\n      <th>2</th>\n      <td>8b23cd36f2b08dcd</td>\n      <td>0</td>\n      <td>0</td>\n      <td>0</td>\n      <td>2021-12-01</td>\n      <td>https://gb.ru/tests/352/trials/2238911/run</td>\n      <td>https://gb.ru/tests/352/trials/2238911</td>\n      <td>NaN</td>\n      <td>NaN</td>\n      <td>1</td>\n      <td>49</td>\n      <td>1</td>\n      <td>1</td>\n      <td>1</td>\n    </tr>\n    <tr>\n      <th>3</th>\n      <td>50de4c060fd128f3</td>\n      <td>0</td>\n      <td>1</td>\n      <td>1</td>\n      <td>2021-12-01</td>\n      <td>https://gb.ru/courses/1165</td>\n      <td>https://gb.ru/a/a1</td>\n      <td>NaN</td>\n      <td>NaN</td>\n      <td>-1</td>\n      <td>-1</td>\n      <td>1</td>\n      <td>1</td>\n      <td>0</td>\n    </tr>\n    <tr>\n      <th>4</th>\n      <td>c2ca3cc9a67c749b</td>\n      <td>0</td>\n      <td>0</td>\n      <td>0</td>\n      <td>2021-12-01</td>\n      <td>NaN</td>\n      <td>https://gb.ru/login</td>\n      <td>NaN</td>\n      <td>NaN</td>\n      <td>0</td>\n      <td>23</td>\n      <td>2</td>\n      <td>1</td>\n      <td>0</td>\n    </tr>\n  </tbody>\n</table>\n</div>"
     },
     "execution_count": 191,
     "metadata": {},
     "output_type": "execute_result"
    }
   ],
   "source": [
    "ds = pd.read_csv('./gb_dataset.csv')\n",
    "ds.head()"
   ]
  },
  {
   "cell_type": "code",
   "execution_count": 192,
   "metadata": {
    "pycharm": {
     "name": "#%%\n"
    }
   },
   "outputs": [
    {
     "name": "stdout",
     "output_type": "stream",
     "text": [
      "<class 'pandas.core.frame.DataFrame'>\n",
      "RangeIndex: 884407 entries, 0 to 884406\n",
      "Data columns (total 14 columns):\n",
      " #   Column        Non-Null Count   Dtype \n",
      "---  ------        --------------   ----- \n",
      " 0   session_id    884407 non-null  object\n",
      " 1   claim         884407 non-null  int64 \n",
      " 2   60sec         884407 non-null  int64 \n",
      " 3   scroll_90     884407 non-null  int64 \n",
      " 4   hit_date      884407 non-null  object\n",
      " 5   referer_url   687598 non-null  object\n",
      " 6   url           884407 non-null  object\n",
      " 7   utm_source    245184 non-null  object\n",
      " 8   utm_medium    244863 non-null  object\n",
      " 9   gender        884407 non-null  int64 \n",
      " 10  age           884407 non-null  int64 \n",
      " 11  touch_screen  884407 non-null  int64 \n",
      " 12  has_vk_id     884407 non-null  int64 \n",
      " 13  has_ok_id     884407 non-null  int64 \n",
      "dtypes: int64(8), object(6)\n",
      "memory usage: 94.5+ MB\n"
     ]
    }
   ],
   "source": [
    "ds.info()"
   ]
  },
  {
   "cell_type": "code",
   "execution_count": 193,
   "metadata": {
    "pycharm": {
     "name": "#%%\n"
    }
   },
   "outputs": [
    {
     "data": {
      "text/plain": "               claim          60sec      scroll_90         gender  \\\ncount  884407.000000  884407.000000  884407.000000  884407.000000   \nmean        0.002071       0.313425       0.144197      -0.359456   \nstd         0.045466       0.463886       0.351290       0.808853   \nmin         0.000000       0.000000       0.000000      -1.000000   \n25%         0.000000       0.000000       0.000000      -1.000000   \n50%         0.000000       0.000000       0.000000      -1.000000   \n75%         0.000000       1.000000       0.000000       0.000000   \nmax         1.000000       1.000000       1.000000       1.000000   \n\n                 age   touch_screen      has_vk_id      has_ok_id  \ncount  884407.000000  884407.000000  884407.000000  884407.000000  \nmean       14.844552       1.436307       0.449500       0.124044  \nstd        21.505421       0.495927       0.497444       0.329631  \nmin        -1.000000       1.000000       0.000000       0.000000  \n25%        -1.000000       1.000000       0.000000       0.000000  \n50%        -1.000000       1.000000       0.000000       0.000000  \n75%        29.000000       2.000000       1.000000       0.000000  \nmax       120.000000       2.000000       1.000000       1.000000  ",
      "text/html": "<div>\n<style scoped>\n    .dataframe tbody tr th:only-of-type {\n        vertical-align: middle;\n    }\n\n    .dataframe tbody tr th {\n        vertical-align: top;\n    }\n\n    .dataframe thead th {\n        text-align: right;\n    }\n</style>\n<table border=\"1\" class=\"dataframe\">\n  <thead>\n    <tr style=\"text-align: right;\">\n      <th></th>\n      <th>claim</th>\n      <th>60sec</th>\n      <th>scroll_90</th>\n      <th>gender</th>\n      <th>age</th>\n      <th>touch_screen</th>\n      <th>has_vk_id</th>\n      <th>has_ok_id</th>\n    </tr>\n  </thead>\n  <tbody>\n    <tr>\n      <th>count</th>\n      <td>884407.000000</td>\n      <td>884407.000000</td>\n      <td>884407.000000</td>\n      <td>884407.000000</td>\n      <td>884407.000000</td>\n      <td>884407.000000</td>\n      <td>884407.000000</td>\n      <td>884407.000000</td>\n    </tr>\n    <tr>\n      <th>mean</th>\n      <td>0.002071</td>\n      <td>0.313425</td>\n      <td>0.144197</td>\n      <td>-0.359456</td>\n      <td>14.844552</td>\n      <td>1.436307</td>\n      <td>0.449500</td>\n      <td>0.124044</td>\n    </tr>\n    <tr>\n      <th>std</th>\n      <td>0.045466</td>\n      <td>0.463886</td>\n      <td>0.351290</td>\n      <td>0.808853</td>\n      <td>21.505421</td>\n      <td>0.495927</td>\n      <td>0.497444</td>\n      <td>0.329631</td>\n    </tr>\n    <tr>\n      <th>min</th>\n      <td>0.000000</td>\n      <td>0.000000</td>\n      <td>0.000000</td>\n      <td>-1.000000</td>\n      <td>-1.000000</td>\n      <td>1.000000</td>\n      <td>0.000000</td>\n      <td>0.000000</td>\n    </tr>\n    <tr>\n      <th>25%</th>\n      <td>0.000000</td>\n      <td>0.000000</td>\n      <td>0.000000</td>\n      <td>-1.000000</td>\n      <td>-1.000000</td>\n      <td>1.000000</td>\n      <td>0.000000</td>\n      <td>0.000000</td>\n    </tr>\n    <tr>\n      <th>50%</th>\n      <td>0.000000</td>\n      <td>0.000000</td>\n      <td>0.000000</td>\n      <td>-1.000000</td>\n      <td>-1.000000</td>\n      <td>1.000000</td>\n      <td>0.000000</td>\n      <td>0.000000</td>\n    </tr>\n    <tr>\n      <th>75%</th>\n      <td>0.000000</td>\n      <td>1.000000</td>\n      <td>0.000000</td>\n      <td>0.000000</td>\n      <td>29.000000</td>\n      <td>2.000000</td>\n      <td>1.000000</td>\n      <td>0.000000</td>\n    </tr>\n    <tr>\n      <th>max</th>\n      <td>1.000000</td>\n      <td>1.000000</td>\n      <td>1.000000</td>\n      <td>1.000000</td>\n      <td>120.000000</td>\n      <td>2.000000</td>\n      <td>1.000000</td>\n      <td>1.000000</td>\n    </tr>\n  </tbody>\n</table>\n</div>"
     },
     "execution_count": 193,
     "metadata": {},
     "output_type": "execute_result"
    }
   ],
   "source": [
    "ds.describe()"
   ]
  },
  {
   "cell_type": "code",
   "execution_count": 194,
   "metadata": {
    "pycharm": {
     "name": "#%%\n"
    }
   },
   "outputs": [
    {
     "name": "stdout",
     "output_type": "stream",
     "text": [
      "Количество уникальных сессий:  864092\n",
      "Всего сессии:  884407\n"
     ]
    }
   ],
   "source": [
    "print('Количество уникальных сессий: ', ds['session_id'].nunique())\n",
    "print('Всего сессии: ',ds['session_id'].count())"
   ]
  },
  {
   "cell_type": "code",
   "execution_count": 195,
   "metadata": {
    "pycharm": {
     "name": "#%%\n"
    }
   },
   "outputs": [
    {
     "name": "stdout",
     "output_type": "stream",
     "text": [
      "20085\n",
      "194\n"
     ]
    }
   ],
   "source": [
    "from collections import Counter\n",
    "c = Counter(list(ds['session_id']))\n",
    "print(len([i for i in c if c[i] > 1]))\n",
    "print(len([i for i in c if c[i] > 2]))"
   ]
  },
  {
   "cell_type": "markdown",
   "metadata": {
    "pycharm": {
     "name": "#%% md\n"
    }
   },
   "source": [
    "## Этап 2. Исследовательский анализ данных"
   ]
  },
  {
   "cell_type": "code",
   "execution_count": 196,
   "metadata": {
    "pycharm": {
     "name": "#%%\n"
    }
   },
   "outputs": [
    {
     "data": {
      "text/plain": "session_id      object\nclaim            int64\n60sec            int64\nscroll_90        int64\nhit_date        object\nreferer_url     object\nurl             object\nutm_source      object\nutm_medium      object\ngender           int64\nage              int64\ntouch_screen     int64\nhas_vk_id        int64\nhas_ok_id        int64\ndtype: object"
     },
     "execution_count": 196,
     "metadata": {},
     "output_type": "execute_result"
    }
   ],
   "source": [
    "# Проверим типы данных\n",
    "ds.dtypes"
   ]
  },
  {
   "cell_type": "code",
   "execution_count": 197,
   "outputs": [
    {
     "data": {
      "text/plain": "session_id              object\nclaim                     bool\n60sec                     bool\nscroll_90                 bool\nhit_date        datetime64[ns]\nreferer_url             object\nurl                     object\nutm_source              object\nutm_medium              object\ngender                   int64\nage                      int64\ntouch_screen             int64\nhas_vk_id                 bool\nhas_ok_id                 bool\ndtype: object"
     },
     "execution_count": 197,
     "metadata": {},
     "output_type": "execute_result"
    }
   ],
   "source": [
    "ds[['60sec','scroll_90','has_ok_id','has_vk_id','claim']] = ds[['60sec','scroll_90','has_ok_id','has_vk_id','claim']].astype(bool)\n",
    "ds[['referer_url','url','utm_source','utm_medium']] = ds[['referer_url','url','utm_source','utm_medium']].astype(str)\n",
    "ds['hit_date'] = pd.to_datetime(ds['hit_date'])\n",
    "origin_ds = ds.copy()\n",
    "ds.dtypes"
   ],
   "metadata": {
    "collapsed": false,
    "pycharm": {
     "name": "#%%\n"
    }
   }
  },
  {
   "cell_type": "markdown",
   "source": [
    "Разделим переходы на 3 категории\n",
    "- direct Прямой заход на сайт или переход с другой страницы сайта\n",
    "- ad Рекламный переход\n",
    "- search Переход из поиска\n",
    "\n",
    "Так же выделим основные типы страниц\n",
    "- courses Страница отдельного курса или списка курсов\n",
    "- edufree Бесплатные программы обучения\n",
    "- events Страница события\n",
    "- geek_university Страница факультета\n",
    "- posts Страница поста\n",
    "- partners Партнерские страницы\n",
    "- other Другие страницы"
   ],
   "metadata": {
    "collapsed": false,
    "pycharm": {
     "name": "#%% md\n"
    }
   }
  },
  {
   "cell_type": "code",
   "execution_count": 198,
   "outputs": [],
   "source": [
    "def get_row_category(row):\n",
    "    # print(row.referer_url)\n",
    "    if 'gb.ru' in row.referer_url or not row.referer_url:\n",
    "        return 0#'direct'\n",
    "    if row.utm_source and row.utm_medium and row.utm_medium == 'email' and 'gb.ru' not in row.referer_url:\n",
    "        return 3#'email'\n",
    "    if row.utm_source and row.utm_medium and 'gb.ru' not in row.referer_url:\n",
    "        return 1#'ad'\n",
    "    return 2#'search'\n",
    "\n",
    "def get_row_url_type(row):\n",
    "    if '/courses' in row.url or '/it_dao' in row.url or '/geek-school' in row.url:\n",
    "        return 0#'courses'\n",
    "    if '/edufree' in row.url or '/start_digital' in row.url:\n",
    "        return 1#'edufree'\n",
    "    if '/events/' in row.url:\n",
    "        return 2#'events'\n",
    "    if '/geek_university/' in row.url or '/professions/' in row.url:\n",
    "        return 3#'geek_university'\n",
    "    if '/posts/' in row.url:\n",
    "        return 4#'posts'\n",
    "    if '/partners/' in row.url:\n",
    "        return 5#'partners'\n",
    "    if '/career' in row.url:\n",
    "        return 8#'career'\n",
    "    if row.url == 'https://gb.ru/':\n",
    "        return 7# index\n",
    "    return 6#'other'\n",
    "\n",
    "page_type_dict = {0:'courses', 1:'edufree',2:'events',3:'geek_university',4:'posts',5:'partners',6:'other', 7:'index', 8:'career'}\n",
    "visit_type_dict = {0:'direct',1:'ad',2:'search', 3:'email'}\n",
    "# print(ds['utm_source'].unique())\n",
    "# print(ds['utm_medium'].unique())\n",
    "ds['visit_type'] = ds.apply(get_row_category, axis=1)\n",
    "ds['page_type'] = ds.apply(get_row_url_type, axis=1)\n",
    "ds = ds.drop(['session_id', 'utm_medium', 'utm_source', 'url','referer_url'], axis=1)\n",
    "# Остальные страницы можно вырезать, т.к. они не представляют интереса или не имеют форм обратной связи\n",
    "ds = ds.loc[ds['page_type']!=6]"
   ],
   "metadata": {
    "collapsed": false,
    "pycharm": {
     "name": "#%%\n"
    }
   }
  },
  {
   "cell_type": "markdown",
   "source": [
    "Разделим пользователей по возрастным группам\n",
    "- менее 20 лет\n",
    "- от 20 до 30\n",
    "- от 30 до 40\n",
    "- от 40 до 50\n",
    "- более 50"
   ],
   "metadata": {
    "collapsed": false,
    "pycharm": {
     "name": "#%% md\n"
    }
   }
  },
  {
   "cell_type": "code",
   "execution_count": 199,
   "outputs": [],
   "source": [
    "def age_group(row):\n",
    "    if row.age == -1:\n",
    "        return -1\n",
    "    if row.age < 20:\n",
    "        return 0 # '< 20'\n",
    "    elif 20 <= row.age < 30:\n",
    "        return 1 # 20 - 30\n",
    "    elif 30 <= row.age < 40:\n",
    "        return 2 # 30 - 40\n",
    "    elif 40 <= row.age < 50:\n",
    "        return 3 # 40 - 50\n",
    "    else:\n",
    "        return 4 # > 50\n",
    "\n",
    "age_group_keys = {0:'< 20', 1:'20 - 30', 2:'30 - 40', 3:'40 - 50', 4: '> 50'}\n",
    "ds['age_group'] = ds.apply(age_group, axis=1)"
   ],
   "metadata": {
    "collapsed": false,
    "pycharm": {
     "name": "#%%\n"
    }
   }
  },
  {
   "cell_type": "code",
   "execution_count": 200,
   "outputs": [
    {
     "data": {
      "text/plain": "    claim  60sec  scroll_90   hit_date  gender  age  touch_screen  has_vk_id  \\\n1   False  False      False 2021-12-01      -1   -1             2      False   \n5   False   True       True 2021-12-01       1   68             1       True   \n6   False   True       True 2021-12-01      -1   -1             2       True   \n9   False  False      False 2021-12-01       1   26             1       True   \n10  False   True      False 2021-12-01       1   62             2      False   \n\n    has_ok_id  visit_type  page_type  age_group  \n1       False           1          0         -1  \n5        True           0          0          4  \n6       False           1          2         -1  \n9       False           0          0          1  \n10       True           1          1          4  ",
      "text/html": "<div>\n<style scoped>\n    .dataframe tbody tr th:only-of-type {\n        vertical-align: middle;\n    }\n\n    .dataframe tbody tr th {\n        vertical-align: top;\n    }\n\n    .dataframe thead th {\n        text-align: right;\n    }\n</style>\n<table border=\"1\" class=\"dataframe\">\n  <thead>\n    <tr style=\"text-align: right;\">\n      <th></th>\n      <th>claim</th>\n      <th>60sec</th>\n      <th>scroll_90</th>\n      <th>hit_date</th>\n      <th>gender</th>\n      <th>age</th>\n      <th>touch_screen</th>\n      <th>has_vk_id</th>\n      <th>has_ok_id</th>\n      <th>visit_type</th>\n      <th>page_type</th>\n      <th>age_group</th>\n    </tr>\n  </thead>\n  <tbody>\n    <tr>\n      <th>1</th>\n      <td>False</td>\n      <td>False</td>\n      <td>False</td>\n      <td>2021-12-01</td>\n      <td>-1</td>\n      <td>-1</td>\n      <td>2</td>\n      <td>False</td>\n      <td>False</td>\n      <td>1</td>\n      <td>0</td>\n      <td>-1</td>\n    </tr>\n    <tr>\n      <th>5</th>\n      <td>False</td>\n      <td>True</td>\n      <td>True</td>\n      <td>2021-12-01</td>\n      <td>1</td>\n      <td>68</td>\n      <td>1</td>\n      <td>True</td>\n      <td>True</td>\n      <td>0</td>\n      <td>0</td>\n      <td>4</td>\n    </tr>\n    <tr>\n      <th>6</th>\n      <td>False</td>\n      <td>True</td>\n      <td>True</td>\n      <td>2021-12-01</td>\n      <td>-1</td>\n      <td>-1</td>\n      <td>2</td>\n      <td>True</td>\n      <td>False</td>\n      <td>1</td>\n      <td>2</td>\n      <td>-1</td>\n    </tr>\n    <tr>\n      <th>9</th>\n      <td>False</td>\n      <td>False</td>\n      <td>False</td>\n      <td>2021-12-01</td>\n      <td>1</td>\n      <td>26</td>\n      <td>1</td>\n      <td>True</td>\n      <td>False</td>\n      <td>0</td>\n      <td>0</td>\n      <td>1</td>\n    </tr>\n    <tr>\n      <th>10</th>\n      <td>False</td>\n      <td>True</td>\n      <td>False</td>\n      <td>2021-12-01</td>\n      <td>1</td>\n      <td>62</td>\n      <td>2</td>\n      <td>False</td>\n      <td>True</td>\n      <td>1</td>\n      <td>1</td>\n      <td>4</td>\n    </tr>\n  </tbody>\n</table>\n</div>"
     },
     "execution_count": 200,
     "metadata": {},
     "output_type": "execute_result"
    }
   ],
   "source": [
    "ds.head()"
   ],
   "metadata": {
    "collapsed": false,
    "pycharm": {
     "name": "#%%\n"
    }
   }
  },
  {
   "cell_type": "code",
   "execution_count": 202,
   "outputs": [
    {
     "data": {
      "text/plain": "claim           0\n60sec           0\nscroll_90       0\nhit_date        0\ngender          0\nage             0\ntouch_screen    0\nhas_vk_id       0\nhas_ok_id       0\nvisit_type      0\npage_type       0\nage_group       0\ndtype: int64"
     },
     "execution_count": 202,
     "metadata": {},
     "output_type": "execute_result"
    }
   ],
   "source": [
    "# Обнаружение пропусков\n",
    "ds.isnull().sum()"
   ],
   "metadata": {
    "collapsed": false,
    "pycharm": {
     "name": "#%%\n"
    }
   }
  },
  {
   "cell_type": "code",
   "execution_count": 203,
   "outputs": [
    {
     "data": {
      "text/plain": "<AxesSubplot:xlabel='age'>"
     },
     "execution_count": 203,
     "metadata": {},
     "output_type": "execute_result"
    },
    {
     "data": {
      "text/plain": "<Figure size 640x480 with 1 Axes>",
      "image/png": "[encoded data removed]"
     },
     "metadata": {},
     "output_type": "display_data"
    }
   ],
   "source": [
    "# Поиск выбросов и аномалий\n",
    "sns.boxplot(ds['age'])"
   ],
   "metadata": {
    "collapsed": false,
    "pycharm": {
     "name": "#%%\n"
    }
   }
  },
  {
   "cell_type": "code",
   "execution_count": 223,
   "outputs": [],
   "source": [
    "ds['age'] = ds['age'].apply(lambda x: -1 if x > 75 else x)"
   ],
   "metadata": {
    "collapsed": false,
    "pycharm": {
     "name": "#%%\n"
    }
   }
  },
  {
   "cell_type": "code",
   "execution_count": 205,
   "outputs": [
    {
     "data": {
      "text/plain": "                 claim     60sec  scroll_90    gender       age  touch_screen  \\\nclaim         1.000000  0.045950   0.029119 -0.028551 -0.028463     -0.030757   \n60sec         0.045950  1.000000   0.114692  0.027896  0.019365     -0.073184   \nscroll_90     0.029119  0.114692   1.000000  0.023023  0.051217      0.049101   \ngender       -0.028551  0.027896   0.023023  1.000000  0.832518     -0.109337   \nage          -0.028463  0.019365   0.051217  0.832518  1.000000     -0.072856   \ntouch_screen -0.030757 -0.073184   0.049101 -0.109337 -0.072856      1.000000   \nhas_vk_id    -0.029276  0.009363  -0.002590  0.658214  0.578738     -0.170750   \nhas_ok_id    -0.017259  0.014558   0.059919  0.451418  0.555559      0.047307   \nvisit_type    0.006032 -0.053655   0.073020 -0.001603  0.024476      0.190876   \npage_type    -0.018500 -0.106417  -0.157795 -0.038501 -0.069333     -0.239879   \nage_group    -0.028447  0.019109   0.052179  0.836300  0.938559     -0.072065   \n\n              has_vk_id  has_ok_id  visit_type  page_type  age_group  \nclaim         -0.029276  -0.017259    0.006032  -0.018500  -0.028447  \n60sec          0.009363   0.014558   -0.053655  -0.106417   0.019109  \nscroll_90     -0.002590   0.059919    0.073020  -0.157795   0.052179  \ngender         0.658214   0.451418   -0.001603  -0.038501   0.836300  \nage            0.578738   0.555559    0.024476  -0.069333   0.938559  \ntouch_screen  -0.170750   0.047307    0.190876  -0.239879  -0.072065  \nhas_vk_id      1.000000   0.239551   -0.048265   0.041704   0.583152  \nhas_ok_id      0.239551   1.000000    0.074383  -0.119681   0.565644  \nvisit_type    -0.048265   0.074383    1.000000  -0.038077   0.027178  \npage_type      0.041704  -0.119681   -0.038077   1.000000  -0.069900  \nage_group      0.583152   0.565644    0.027178  -0.069900   1.000000  ",
      "text/html": "<div>\n<style scoped>\n    .dataframe tbody tr th:only-of-type {\n        vertical-align: middle;\n    }\n\n    .dataframe tbody tr th {\n        vertical-align: top;\n    }\n\n    .dataframe thead th {\n        text-align: right;\n    }\n</style>\n<table border=\"1\" class=\"dataframe\">\n  <thead>\n    <tr style=\"text-align: right;\">\n      <th></th>\n      <th>claim</th>\n      <th>60sec</th>\n      <th>scroll_90</th>\n      <th>gender</th>\n      <th>age</th>\n      <th>touch_screen</th>\n      <th>has_vk_id</th>\n      <th>has_ok_id</th>\n      <th>visit_type</th>\n      <th>page_type</th>\n      <th>age_group</th>\n    </tr>\n  </thead>\n  <tbody>\n    <tr>\n      <th>claim</th>\n      <td>1.000000</td>\n      <td>0.045950</td>\n      <td>0.029119</td>\n      <td>-0.028551</td>\n      <td>-0.028463</td>\n      <td>-0.030757</td>\n      <td>-0.029276</td>\n      <td>-0.017259</td>\n      <td>0.006032</td>\n      <td>-0.018500</td>\n      <td>-0.028447</td>\n    </tr>\n    <tr>\n      <th>60sec</th>\n      <td>0.045950</td>\n      <td>1.000000</td>\n      <td>0.114692</td>\n      <td>0.027896</td>\n      <td>0.019365</td>\n      <td>-0.073184</td>\n      <td>0.009363</td>\n      <td>0.014558</td>\n      <td>-0.053655</td>\n      <td>-0.106417</td>\n      <td>0.019109</td>\n    </tr>\n    <tr>\n      <th>scroll_90</th>\n      <td>0.029119</td>\n      <td>0.114692</td>\n      <td>1.000000</td>\n      <td>0.023023</td>\n      <td>0.051217</td>\n      <td>0.049101</td>\n      <td>-0.002590</td>\n      <td>0.059919</td>\n      <td>0.073020</td>\n      <td>-0.157795</td>\n      <td>0.052179</td>\n    </tr>\n    <tr>\n      <th>gender</th>\n      <td>-0.028551</td>\n      <td>0.027896</td>\n      <td>0.023023</td>\n      <td>1.000000</td>\n      <td>0.832518</td>\n      <td>-0.109337</td>\n      <td>0.658214</td>\n      <td>0.451418</td>\n      <td>-0.001603</td>\n      <td>-0.038501</td>\n      <td>0.836300</td>\n    </tr>\n    <tr>\n      <th>age</th>\n      <td>-0.028463</td>\n      <td>0.019365</td>\n      <td>0.051217</td>\n      <td>0.832518</td>\n      <td>1.000000</td>\n      <td>-0.072856</td>\n      <td>0.578738</td>\n      <td>0.555559</td>\n      <td>0.024476</td>\n      <td>-0.069333</td>\n      <td>0.938559</td>\n    </tr>\n    <tr>\n      <th>touch_screen</th>\n      <td>-0.030757</td>\n      <td>-0.073184</td>\n      <td>0.049101</td>\n      <td>-0.109337</td>\n      <td>-0.072856</td>\n      <td>1.000000</td>\n      <td>-0.170750</td>\n      <td>0.047307</td>\n      <td>0.190876</td>\n      <td>-0.239879</td>\n      <td>-0.072065</td>\n    </tr>\n    <tr>\n      <th>has_vk_id</th>\n      <td>-0.029276</td>\n      <td>0.009363</td>\n      <td>-0.002590</td>\n      <td>0.658214</td>\n      <td>0.578738</td>\n      <td>-0.170750</td>\n      <td>1.000000</td>\n      <td>0.239551</td>\n      <td>-0.048265</td>\n      <td>0.041704</td>\n      <td>0.583152</td>\n    </tr>\n    <tr>\n      <th>has_ok_id</th>\n      <td>-0.017259</td>\n      <td>0.014558</td>\n      <td>0.059919</td>\n      <td>0.451418</td>\n      <td>0.555559</td>\n      <td>0.047307</td>\n      <td>0.239551</td>\n      <td>1.000000</td>\n      <td>0.074383</td>\n      <td>-0.119681</td>\n      <td>0.565644</td>\n    </tr>\n    <tr>\n      <th>visit_type</th>\n      <td>0.006032</td>\n      <td>-0.053655</td>\n      <td>0.073020</td>\n      <td>-0.001603</td>\n      <td>0.024476</td>\n      <td>0.190876</td>\n      <td>-0.048265</td>\n      <td>0.074383</td>\n      <td>1.000000</td>\n      <td>-0.038077</td>\n      <td>0.027178</td>\n    </tr>\n    <tr>\n      <th>page_type</th>\n      <td>-0.018500</td>\n      <td>-0.106417</td>\n      <td>-0.157795</td>\n      <td>-0.038501</td>\n      <td>-0.069333</td>\n      <td>-0.239879</td>\n      <td>0.041704</td>\n      <td>-0.119681</td>\n      <td>-0.038077</td>\n      <td>1.000000</td>\n      <td>-0.069900</td>\n    </tr>\n    <tr>\n      <th>age_group</th>\n      <td>-0.028447</td>\n      <td>0.019109</td>\n      <td>0.052179</td>\n      <td>0.836300</td>\n      <td>0.938559</td>\n      <td>-0.072065</td>\n      <td>0.583152</td>\n      <td>0.565644</td>\n      <td>0.027178</td>\n      <td>-0.069900</td>\n      <td>1.000000</td>\n    </tr>\n  </tbody>\n</table>\n</div>"
     },
     "execution_count": 205,
     "metadata": {},
     "output_type": "execute_result"
    },
    {
     "data": {
      "text/plain": "<Figure size 2000x1000 with 2 Axes>",
      "image/png": "[encoded data removed]"
     },
     "metadata": {},
     "output_type": "display_data"
    }
   ],
   "source": [
    "plt.figure(figsize=(20,10))\n",
    "c= ds.corr()\n",
    "cor_matrix_mask = np.triu(np.ones_like(c, dtype=bool))\n",
    "sns.heatmap(c,cmap=\"BrBG\",annot=True, vmin=-1, vmax=1, mask=cor_matrix_mask)\n",
    "c"
   ],
   "metadata": {
    "collapsed": false,
    "pycharm": {
     "name": "#%%\n"
    }
   }
  },
  {
   "cell_type": "code",
   "execution_count": 206,
   "metadata": {
    "pycharm": {
     "name": "#%%\n"
    }
   },
   "outputs": [],
   "source": [
    "## Этап 3. Статистический анализ данных"
   ]
  },
  {
   "cell_type": "code",
   "execution_count": 207,
   "outputs": [
    {
     "data": {
      "text/plain": "Text(0, 0.5, 'Количество отправок форм по типам страниц')"
     },
     "execution_count": 207,
     "metadata": {},
     "output_type": "execute_result"
    },
    {
     "data": {
      "text/plain": "<Figure size 640x480 with 1 Axes>",
      "image/png": "[encoded data removed]"
     },
     "metadata": {},
     "output_type": "display_data"
    }
   ],
   "source": [
    "c = ds[ds.claim==True].groupby('page_type')['page_type'].count().to_frame('counts').reset_index()\n",
    "c['page_type'] = c['page_type'].replace(page_type_dict)\n",
    "\n",
    "sns.barplot(x=c.page_type, y=c.counts)\n",
    "plt.xlabel('Тип страниц')\n",
    "plt.ylabel('Количество отправок форм по типам страниц')"
   ],
   "metadata": {
    "collapsed": false,
    "pycharm": {
     "name": "#%%\n"
    }
   }
  },
  {
   "cell_type": "code",
   "execution_count": 208,
   "metadata": {
    "pycharm": {
     "name": "#%%\n"
    }
   },
   "outputs": [
    {
     "data": {
      "text/plain": "Text(0, 0.5, 'Количество отправок форм по источнику трафика')"
     },
     "execution_count": 208,
     "metadata": {},
     "output_type": "execute_result"
    },
    {
     "data": {
      "text/plain": "<Figure size 640x480 with 1 Axes>",
      "image/png": "[encoded data removed]"
     },
     "metadata": {},
     "output_type": "display_data"
    }
   ],
   "source": [
    "c = ds[ds.claim==True].groupby('visit_type')['visit_type'].count().to_frame('counts').reset_index()\n",
    "c['visit_type'] = c['visit_type'].replace(visit_type_dict)\n",
    "\n",
    "sns.barplot(x=c.visit_type, y=c.counts)\n",
    "plt.xlabel('Тип трафика')\n",
    "plt.ylabel('Количество отправок форм по источнику трафика')"
   ]
  },
  {
   "cell_type": "code",
   "execution_count": 209,
   "outputs": [],
   "source": [
    "# Добавим параметр проявления интереса к странице\n",
    "ds['interes'] = ds[['60sec','scroll_90']].apply(lambda x: x['60sec'] and x['scroll_90'], axis=1)"
   ],
   "metadata": {
    "collapsed": false,
    "pycharm": {
     "name": "#%%\n"
    }
   }
  },
  {
   "cell_type": "code",
   "execution_count": 210,
   "outputs": [
    {
     "data": {
      "text/plain": "          page_type  interes  counts\n1           courses     True    5703\n3           edufree     True    6782\n5            events     True    1602\n7   geek_university     True    9282\n9             posts     True    3262\n11         partners     True     564\n13            index     True    1364\n15           career     True     711",
      "text/html": "<div>\n<style scoped>\n    .dataframe tbody tr th:only-of-type {\n        vertical-align: middle;\n    }\n\n    .dataframe tbody tr th {\n        vertical-align: top;\n    }\n\n    .dataframe thead th {\n        text-align: right;\n    }\n</style>\n<table border=\"1\" class=\"dataframe\">\n  <thead>\n    <tr style=\"text-align: right;\">\n      <th></th>\n      <th>page_type</th>\n      <th>interes</th>\n      <th>counts</th>\n    </tr>\n  </thead>\n  <tbody>\n    <tr>\n      <th>1</th>\n      <td>courses</td>\n      <td>True</td>\n      <td>5703</td>\n    </tr>\n    <tr>\n      <th>3</th>\n      <td>edufree</td>\n      <td>True</td>\n      <td>6782</td>\n    </tr>\n    <tr>\n      <th>5</th>\n      <td>events</td>\n      <td>True</td>\n      <td>1602</td>\n    </tr>\n    <tr>\n      <th>7</th>\n      <td>geek_university</td>\n      <td>True</td>\n      <td>9282</td>\n    </tr>\n    <tr>\n      <th>9</th>\n      <td>posts</td>\n      <td>True</td>\n      <td>3262</td>\n    </tr>\n    <tr>\n      <th>11</th>\n      <td>partners</td>\n      <td>True</td>\n      <td>564</td>\n    </tr>\n    <tr>\n      <th>13</th>\n      <td>index</td>\n      <td>True</td>\n      <td>1364</td>\n    </tr>\n    <tr>\n      <th>15</th>\n      <td>career</td>\n      <td>True</td>\n      <td>711</td>\n    </tr>\n  </tbody>\n</table>\n</div>"
     },
     "execution_count": 210,
     "metadata": {},
     "output_type": "execute_result"
    },
    {
     "data": {
      "text/plain": "<Figure size 640x480 with 1 Axes>",
      "image/png": "[encoded data removed]"
     },
     "metadata": {},
     "output_type": "display_data"
    }
   ],
   "source": [
    "c = ds[['page_type', 'interes']].groupby(['page_type','interes']).size()\n",
    "c = c.to_frame('counts').reset_index()\n",
    "c = c[c['page_type']!=6]\n",
    "c = c[c['interes']==True]\n",
    "c['page_type'] = c['page_type'].replace(page_type_dict)\n",
    "sns.barplot(data=c, hue='page_type', x='interes', y='counts')\n",
    "c"
   ],
   "metadata": {
    "collapsed": false,
    "pycharm": {
     "name": "#%%\n"
    }
   }
  },
  {
   "cell_type": "markdown",
   "source": [
    "Проверим использование соц сетей по возрасту"
   ],
   "metadata": {
    "collapsed": false,
    "pycharm": {
     "name": "#%% md\n"
    }
   }
  },
  {
   "cell_type": "code",
   "execution_count": 211,
   "outputs": [],
   "source": [
    "\n",
    "tmp_ds = ds.copy()\n",
    "tmp_ds = tmp_ds.loc[~((tmp_ds['age']==-1) | (tmp_ds['gender']==-1))]\n",
    "tmp_ds = tmp_ds.replace({'gender': {0:'Male', 1:'Female'}})"
   ],
   "metadata": {
    "collapsed": false,
    "pycharm": {
     "name": "#%%\n"
    }
   }
  },
  {
   "cell_type": "code",
   "source": [
    "from sklearn.preprocessing import MinMaxScaler\n",
    "scaler = MinMaxScaler()\n",
    "vk_plot_data = tmp_ds[tmp_ds['has_vk_id']==True].sort_values('age_group').groupby(['gender','age_group']).size().to_frame('counter').reset_index().sort_values('age_group')\n",
    "ok_plot_data = tmp_ds[tmp_ds['has_ok_id']==True].sort_values('age_group').groupby(['gender','age_group']).size().to_frame('counter').reset_index().sort_values('age_group')\n",
    "\n",
    "vk_plot_data = vk_plot_data.replace({'age_group': age_group_keys})\n",
    "ok_plot_data = ok_plot_data.replace({'age_group': age_group_keys})\n",
    "\n",
    "vk_plot_data['counter'] = scaler.fit_transform(vk_plot_data[['counter']])\n",
    "ok_plot_data['counter'] = scaler.fit_transform(ok_plot_data[['counter']])\n",
    "\n",
    "fig, axs = plt.subplots(nrows=1, ncols=2, figsize=(18,8))\n",
    "lp1 = sns.lineplot(x=\"age_group\", y='counter', hue='gender',\n",
    "                   data=vk_plot_data,\n",
    "                   ax=axs[0])\n",
    "lp2 = sns.lineplot(x=\"age_group\", y='counter', hue='gender', data=ok_plot_data, ax=axs[1])\n",
    "lp1.set_title('Использования ВК по возрастам')\n",
    "lp2.set_title('Использования Одноклассноков по возрастам')"
   ],
   "metadata": {
    "collapsed": false,
    "pycharm": {
     "name": "#%%\n"
    }
   },
   "execution_count": 212,
   "outputs": [
    {
     "data": {
      "text/plain": "Text(0.5, 1.0, 'Использования Одноклассноков по возрастам')"
     },
     "execution_count": 212,
     "metadata": {},
     "output_type": "execute_result"
    },
    {
     "data": {
      "text/plain": "<Figure size 1800x800 with 2 Axes>",
      "image/png": "[encoded data removed]"
     },
     "metadata": {},
     "output_type": "display_data"
    }
   ]
  },
  {
   "cell_type": "raw",
   "source": [
    "Соотношение отправленных заявок по дням недели"
   ],
   "metadata": {
    "collapsed": false
   }
  },
  {
   "cell_type": "code",
   "execution_count": 213,
   "outputs": [
    {
     "data": {
      "text/plain": "<AxesSubplot:xlabel='weekday', ylabel='counter'>"
     },
     "execution_count": 213,
     "metadata": {},
     "output_type": "execute_result"
    },
    {
     "data": {
      "text/plain": "<Figure size 640x480 with 1 Axes>",
      "image/png": "[encoded data removed]"
     },
     "metadata": {},
     "output_type": "display_data"
    }
   ],
   "source": [
    "import calendar\n",
    "del(tmp_ds)\n",
    "del(vk_plot_data)\n",
    "del(ok_plot_data)\n",
    "# ds['weekday'] = ds['hit_date'].apply(lambda x: calendar.day_name[x.weekday()])\n",
    "ds['weekday'] = ds['hit_date'].apply(lambda x: x.weekday())\n",
    "sns.barplot(data=ds[ds['claim']==True].groupby('weekday').size().to_frame('counter').reset_index(), x='weekday', y='counter')\n",
    "# Относительно ровно"
   ],
   "metadata": {
    "collapsed": false,
    "pycharm": {
     "name": "#%%\n"
    }
   }
  },
  {
   "cell_type": "markdown",
   "source": [
    "Проверим какая возрастная группа чаще отправляет заявки"
   ],
   "metadata": {
    "collapsed": false,
    "pycharm": {
     "name": "#%% md\n"
    }
   }
  },
  {
   "cell_type": "code",
   "execution_count": 214,
   "outputs": [
    {
     "data": {
      "text/plain": "Text(0, 0.5, 'Количество отправок форм')"
     },
     "execution_count": 214,
     "metadata": {},
     "output_type": "execute_result"
    },
    {
     "data": {
      "text/plain": "<Figure size 640x480 with 1 Axes>",
      "image/png": "[encoded data removed]"
     },
     "metadata": {},
     "output_type": "display_data"
    }
   ],
   "source": [
    "tmp_ds = ds[ds['gender']!=-1] # отсеим тех чей пол неизвестен\n",
    "tmp_ds = tmp_ds[tmp_ds['claim']==True].groupby(['age_group','gender']).size().to_frame('counter').reset_index()\n",
    "\n",
    "tmp_ds = tmp_ds.replace({'age_group': age_group_keys,'gender':{0:'Male', 1:'Female'}})\n",
    "sns.barplot(data=tmp_ds, x='age_group', y='counter', hue='gender')\n",
    "\n",
    "plt.xlabel('Возрастная группа')\n",
    "plt.ylabel('Количество отправок форм')"
   ],
   "metadata": {
    "collapsed": false,
    "pycharm": {
     "name": "#%%\n"
    }
   }
  },
  {
   "cell_type": "markdown",
   "source": [
    "Как видно из графика чаще всего формы отправляют люди от 20 до 40"
   ],
   "metadata": {
    "collapsed": false,
    "pycharm": {
     "name": "#%% md\n"
    }
   }
  },
  {
   "cell_type": "markdown",
   "metadata": {
    "pycharm": {
     "name": "#%% md\n"
    }
   },
   "source": [
    "## Этап 4. Предобработка данных (обработка пропусков, аномалий)"
   ]
  },
  {
   "cell_type": "raw",
   "metadata": {
    "pycharm": {
     "name": "#%% raw\n"
    }
   },
   "source": [
    "Предобработка данных выполненна по ходу задания"
   ]
  },
  {
   "cell_type": "markdown",
   "metadata": {
    "pycharm": {
     "name": "#%% md\n"
    }
   },
   "source": [
    "## Этап 5. Построение воронки клиентов"
   ]
  },
  {
   "cell_type": "markdown",
   "source": [
    "Воронка:\n",
    "- всего пользователей с группировкой по источнику трафика\n",
    "- проявили интерес к странице\n",
    "- отправили заявку"
   ],
   "metadata": {
    "collapsed": false,
    "pycharm": {
     "name": "#%% md\n"
    }
   }
  },
  {
   "cell_type": "code",
   "execution_count": 215,
   "outputs": [
    {
     "data": {
      "text/plain": "[175169, 67295, 10702, 95, 325840, 102607, 17600, 289, 9517, 3447, 968, 2]"
     },
     "execution_count": 215,
     "metadata": {},
     "output_type": "execute_result"
    }
   ],
   "source": [
    "quantity = []\n",
    "# tmp_ds = ds[(ds['age_group'] == 1) | (ds['age_group'] == 2) ]\n",
    "# tmp_ds = ds[ds['interes'] == True]\n",
    "# print(set(ds['visit_type'].tolist()))\n",
    "for vt in set(ds['visit_type'].tolist()):\n",
    "    tmp = ds[ds['visit_type']==vt]\n",
    "    quantity.append(tmp.shape[0])\n",
    "\n",
    "    tmp = tmp[tmp['60sec']==True]\n",
    "    quantity.append(tmp.shape[0])\n",
    "\n",
    "    tmp = tmp[tmp['scroll_90']==True]\n",
    "    quantity.append(tmp.shape[0])\n",
    "\n",
    "    tmp = tmp[tmp['claim']==True]\n",
    "    quantity.append(tmp.shape[0])\n",
    "    # print(vt)\n",
    "# ds[ds['visit_type']==0].shape[0]\n",
    "quantity"
   ],
   "metadata": {
    "collapsed": false,
    "pycharm": {
     "name": "#%%\n"
    }
   }
  },
  {
   "cell_type": "code",
   "execution_count": 216,
   "metadata": {
    "pycharm": {
     "name": "#%%\n"
    }
   },
   "outputs": [
    {
     "data": {
      "application/vnd.plotly.v1+json": {
       "data": [
        {
         "hovertemplate": "Location=Директ<br>Quantity=%{x}<br>=%{y}<extra></extra>",
         "legendgroup": "Директ",
         "marker": {
          "color": "#617588"
         },
         "name": "Директ",
         "orientation": "h",
         "showlegend": true,
         "x": [
          175169,
          67295,
          10702,
          95
         ],
         "xaxis": "x",
         "y": [
          "Всего пользователей",
          "60 сек",
          "Скролл 90%",
          "Отправили заявку"
         ],
         "yaxis": "y",
         "type": "funnel"
        },
        {
         "hovertemplate": "Location=Рекламный трафик<br>Quantity=%{x}<br>=%{y}<extra></extra>",
         "legendgroup": "Рекламный трафик",
         "marker": {
          "color": "#374B53"
         },
         "name": "Рекламный трафик",
         "orientation": "h",
         "showlegend": true,
         "x": [
          325840,
          102607,
          17600,
          289
         ],
         "xaxis": "x",
         "y": [
          "Всего пользователей",
          "60 сек",
          "Скролл 90%",
          "Отправили заявку"
         ],
         "yaxis": "y",
         "type": "funnel"
        },
        {
         "hovertemplate": "Location=Email<br>Quantity=%{x}<br>=%{y}<extra></extra>",
         "legendgroup": "Email",
         "marker": {
          "color": "#2CA02C"
         },
         "name": "Email",
         "orientation": "h",
         "showlegend": true,
         "x": [
          9517,
          3447,
          968,
          2
         ],
         "xaxis": "x",
         "y": [
          "Всего пользователей",
          "60 сек",
          "Скролл 90%",
          "Отправили заявку"
         ],
         "yaxis": "y",
         "type": "funnel"
        }
       ],
       "layout": {
        "template": {
         "data": {
          "barpolar": [
           {
            "marker": {
             "line": {
              "color": "white",
              "width": 0.5
             },
             "pattern": {
              "fillmode": "overlay",
              "size": 10,
              "solidity": 0.2
             }
            },
            "type": "barpolar"
           }
          ],
          "bar": [
           {
            "error_x": {
             "color": "rgb(36,36,36)"
            },
            "error_y": {
             "color": "rgb(36,36,36)"
            },
            "marker": {
             "line": {
              "color": "white",
              "width": 0.5
             },
             "pattern": {
              "fillmode": "overlay",
              "size": 10,
              "solidity": 0.2
             }
            },
            "type": "bar"
           }
          ],
          "carpet": [
           {
            "aaxis": {
             "endlinecolor": "rgb(36,36,36)",
             "gridcolor": "white",
             "linecolor": "white",
             "minorgridcolor": "white",
             "startlinecolor": "rgb(36,36,36)"
            },
            "baxis": {
             "endlinecolor": "rgb(36,36,36)",
             "gridcolor": "white",
             "linecolor": "white",
             "minorgridcolor": "white",
             "startlinecolor": "rgb(36,36,36)"
            },
            "type": "carpet"
           }
          ],
          "choropleth": [
           {
            "colorbar": {
             "outlinewidth": 1,
             "tickcolor": "rgb(36,36,36)",
             "ticks": "outside"
            },
            "type": "choropleth"
           }
          ],
          "contourcarpet": [
           {
            "colorbar": {
             "outlinewidth": 1,
             "tickcolor": "rgb(36,36,36)",
             "ticks": "outside"
            },
            "type": "contourcarpet"
           }
          ],
          "contour": [
           {
            "colorbar": {
             "outlinewidth": 1,
             "tickcolor": "rgb(36,36,36)",
             "ticks": "outside"
            },
            "colorscale": [
             [
              0.0,
              "#440154"
             ],
             [
              0.1111111111111111,
              "#482878"
             ],
             [
              0.2222222222222222,
              "#3e4989"
             ],
             [
              0.3333333333333333,
              "#31688e"
             ],
             [
              0.4444444444444444,
              "#26828e"
             ],
             [
              0.5555555555555556,
              "#1f9e89"
             ],
             [
              0.6666666666666666,
              "#35b779"
             ],
             [
              0.7777777777777778,
              "#6ece58"
             ],
             [
              0.8888888888888888,
              "#b5de2b"
             ],
             [
              1.0,
              "#fde725"
             ]
            ],
            "type": "contour"
           }
          ],
          "heatmapgl": [
           {
            "colorbar": {
             "outlinewidth": 1,
             "tickcolor": "rgb(36,36,36)",
             "ticks": "outside"
            },
            "colorscale": [
             [
              0.0,
              "#440154"
             ],
             [
              0.1111111111111111,
              "#482878"
             ],
             [
              0.2222222222222222,
              "#3e4989"
             ],
             [
              0.3333333333333333,
              "#31688e"
             ],
             [
              0.4444444444444444,
              "#26828e"
             ],
             [
              0.5555555555555556,
              "#1f9e89"
             ],
             [
              0.6666666666666666,
              "#35b779"
             ],
             [
              0.7777777777777778,
              "#6ece58"
             ],
             [
              0.8888888888888888,
              "#b5de2b"
             ],
             [
              1.0,
              "#fde725"
             ]
            ],
            "type": "heatmapgl"
           }
          ],
          "heatmap": [
           {
            "colorbar": {
             "outlinewidth": 1,
             "tickcolor": "rgb(36,36,36)",
             "ticks": "outside"
            },
            "colorscale": [
             [
              0.0,
              "#440154"
             ],
             [
              0.1111111111111111,
              "#482878"
             ],
             [
              0.2222222222222222,
              "#3e4989"
             ],
             [
              0.3333333333333333,
              "#31688e"
             ],
             [
              0.4444444444444444,
              "#26828e"
             ],
             [
              0.5555555555555556,
              "#1f9e89"
             ],
             [
              0.6666666666666666,
              "#35b779"
             ],
             [
              0.7777777777777778,
              "#6ece58"
             ],
             [
              0.8888888888888888,
              "#b5de2b"
             ],
             [
              1.0,
              "#fde725"
             ]
            ],
            "type": "heatmap"
           }
          ],
          "histogram2dcontour": [
           {
            "colorbar": {
             "outlinewidth": 1,
             "tickcolor": "rgb(36,36,36)",
             "ticks": "outside"
            },
            "colorscale": [
             [
              0.0,
              "#440154"
             ],
             [
              0.1111111111111111,
              "#482878"
             ],
             [
              0.2222222222222222,
              "#3e4989"
             ],
             [
              0.3333333333333333,
              "#31688e"
             ],
             [
              0.4444444444444444,
              "#26828e"
             ],
             [
              0.5555555555555556,
              "#1f9e89"
             ],
             [
              0.6666666666666666,
              "#35b779"
             ],
             [
              0.7777777777777778,
              "#6ece58"
             ],
             [
              0.8888888888888888,
              "#b5de2b"
             ],
             [
              1.0,
              "#fde725"
             ]
            ],
            "type": "histogram2dcontour"
           }
          ],
          "histogram2d": [
           {
            "colorbar": {
             "outlinewidth": 1,
             "tickcolor": "rgb(36,36,36)",
             "ticks": "outside"
            },
            "colorscale": [
             [
              0.0,
              "#440154"
             ],
             [
              0.1111111111111111,
              "#482878"
             ],
             [
              0.2222222222222222,
              "#3e4989"
             ],
             [
              0.3333333333333333,
              "#31688e"
             ],
             [
              0.4444444444444444,
              "#26828e"
             ],
             [
              0.5555555555555556,
              "#1f9e89"
             ],
             [
              0.6666666666666666,
              "#35b779"
             ],
             [
              0.7777777777777778,
              "#6ece58"
             ],
             [
              0.8888888888888888,
              "#b5de2b"
             ],
             [
              1.0,
              "#fde725"
             ]
            ],
            "type": "histogram2d"
           }
          ],
          "histogram": [
           {
            "marker": {
             "line": {
              "color": "white",
              "width": 0.6
             }
            },
            "type": "histogram"
           }
          ],
          "mesh3d": [
           {
            "colorbar": {
             "outlinewidth": 1,
             "tickcolor": "rgb(36,36,36)",
             "ticks": "outside"
            },
            "type": "mesh3d"
           }
          ],
          "parcoords": [
           {
            "line": {
             "colorbar": {
              "outlinewidth": 1,
              "tickcolor": "rgb(36,36,36)",
              "ticks": "outside"
             }
            },
            "type": "parcoords"
           }
          ],
          "pie": [
           {
            "automargin": true,
            "type": "pie"
           }
          ],
          "scatter3d": [
           {
            "line": {
             "colorbar": {
              "outlinewidth": 1,
              "tickcolor": "rgb(36,36,36)",
              "ticks": "outside"
             }
            },
            "marker": {
             "colorbar": {
              "outlinewidth": 1,
              "tickcolor": "rgb(36,36,36)",
              "ticks": "outside"
             }
            },
            "type": "scatter3d"
           }
          ],
          "scattercarpet": [
           {
            "marker": {
             "colorbar": {
              "outlinewidth": 1,
              "tickcolor": "rgb(36,36,36)",
              "ticks": "outside"
             }
            },
            "type": "scattercarpet"
           }
          ],
          "scattergeo": [
           {
            "marker": {
             "colorbar": {
              "outlinewidth": 1,
              "tickcolor": "rgb(36,36,36)",
              "ticks": "outside"
             }
            },
            "type": "scattergeo"
           }
          ],
          "scattergl": [
           {
            "marker": {
             "colorbar": {
              "outlinewidth": 1,
              "tickcolor": "rgb(36,36,36)",
              "ticks": "outside"
             }
            },
            "type": "scattergl"
           }
          ],
          "scattermapbox": [
           {
            "marker": {
             "colorbar": {
              "outlinewidth": 1,
              "tickcolor": "rgb(36,36,36)",
              "ticks": "outside"
             }
            },
            "type": "scattermapbox"
           }
          ],
          "scatterpolargl": [
           {
            "marker": {
             "colorbar": {
              "outlinewidth": 1,
              "tickcolor": "rgb(36,36,36)",
              "ticks": "outside"
             }
            },
            "type": "scatterpolargl"
           }
          ],
          "scatterpolar": [
           {
            "marker": {
             "colorbar": {
              "outlinewidth": 1,
              "tickcolor": "rgb(36,36,36)",
              "ticks": "outside"
             }
            },
            "type": "scatterpolar"
           }
          ],
          "scatter": [
           {
            "fillpattern": {
             "fillmode": "overlay",
             "size": 10,
             "solidity": 0.2
            },
            "type": "scatter"
           }
          ],
          "scatterternary": [
           {
            "marker": {
             "colorbar": {
              "outlinewidth": 1,
              "tickcolor": "rgb(36,36,36)",
              "ticks": "outside"
             }
            },
            "type": "scatterternary"
           }
          ],
          "surface": [
           {
            "colorbar": {
             "outlinewidth": 1,
             "tickcolor": "rgb(36,36,36)",
             "ticks": "outside"
            },
            "colorscale": [
             [
              0.0,
              "#440154"
             ],
             [
              0.1111111111111111,
              "#482878"
             ],
             [
              0.2222222222222222,
              "#3e4989"
             ],
             [
              0.3333333333333333,
              "#31688e"
             ],
             [
              0.4444444444444444,
              "#26828e"
             ],
             [
              0.5555555555555556,
              "#1f9e89"
             ],
             [
              0.6666666666666666,
              "#35b779"
             ],
             [
              0.7777777777777778,
              "#6ece58"
             ],
             [
              0.8888888888888888,
              "#b5de2b"
             ],
             [
              1.0,
              "#fde725"
             ]
            ],
            "type": "surface"
           }
          ],
          "table": [
           {
            "cells": {
             "fill": {
              "color": "rgb(237,237,237)"
             },
             "line": {
              "color": "white"
             }
            },
            "header": {
             "fill": {
              "color": "rgb(217,217,217)"
             },
             "line": {
              "color": "white"
             }
            },
            "type": "table"
           }
          ]
         },
         "layout": {
          "annotationdefaults": {
           "arrowhead": 0,
           "arrowwidth": 1
          },
          "autotypenumbers": "strict",
          "coloraxis": {
           "colorbar": {
            "outlinewidth": 1,
            "tickcolor": "rgb(36,36,36)",
            "ticks": "outside"
           }
          },
          "colorscale": {
           "diverging": [
            [
             0.0,
             "rgb(103,0,31)"
            ],
            [
             0.1,
             "rgb(178,24,43)"
            ],
            [
             0.2,
             "rgb(214,96,77)"
            ],
            [
             0.3,
             "rgb(244,165,130)"
            ],
            [
             0.4,
             "rgb(253,219,199)"
            ],
            [
             0.5,
             "rgb(247,247,247)"
            ],
            [
             0.6,
             "rgb(209,229,240)"
            ],
            [
             0.7,
             "rgb(146,197,222)"
            ],
            [
             0.8,
             "rgb(67,147,195)"
            ],
            [
             0.9,
             "rgb(33,102,172)"
            ],
            [
             1.0,
             "rgb(5,48,97)"
            ]
           ],
           "sequential": [
            [
             0.0,
             "#440154"
            ],
            [
             0.1111111111111111,
             "#482878"
            ],
            [
             0.2222222222222222,
             "#3e4989"
            ],
            [
             0.3333333333333333,
             "#31688e"
            ],
            [
             0.4444444444444444,
             "#26828e"
            ],
            [
             0.5555555555555556,
             "#1f9e89"
            ],
            [
             0.6666666666666666,
             "#35b779"
            ],
            [
             0.7777777777777778,
             "#6ece58"
            ],
            [
             0.8888888888888888,
             "#b5de2b"
            ],
            [
             1.0,
             "#fde725"
            ]
           ],
           "sequentialminus": [
            [
             0.0,
             "#440154"
            ],
            [
             0.1111111111111111,
             "#482878"
            ],
            [
             0.2222222222222222,
             "#3e4989"
            ],
            [
             0.3333333333333333,
             "#31688e"
            ],
            [
             0.4444444444444444,
             "#26828e"
            ],
            [
             0.5555555555555556,
             "#1f9e89"
            ],
            [
             0.6666666666666666,
             "#35b779"
            ],
            [
             0.7777777777777778,
             "#6ece58"
            ],
            [
             0.8888888888888888,
             "#b5de2b"
            ],
            [
             1.0,
             "#fde725"
            ]
           ]
          },
          "colorway": [
           "#1F77B4",
           "#FF7F0E",
           "#2CA02C",
           "#D62728",
           "#9467BD",
           "#8C564B",
           "#E377C2",
           "#7F7F7F",
           "#BCBD22",
           "#17BECF"
          ],
          "font": {
           "color": "rgb(36,36,36)"
          },
          "geo": {
           "bgcolor": "white",
           "lakecolor": "white",
           "landcolor": "white",
           "showlakes": true,
           "showland": true,
           "subunitcolor": "white"
          },
          "hoverlabel": {
           "align": "left"
          },
          "hovermode": "closest",
          "mapbox": {
           "style": "light"
          },
          "paper_bgcolor": "white",
          "plot_bgcolor": "white",
          "polar": {
           "angularaxis": {
            "gridcolor": "rgb(232,232,232)",
            "linecolor": "rgb(36,36,36)",
            "showgrid": false,
            "showline": true,
            "ticks": "outside"
           },
           "bgcolor": "white",
           "radialaxis": {
            "gridcolor": "rgb(232,232,232)",
            "linecolor": "rgb(36,36,36)",
            "showgrid": false,
            "showline": true,
            "ticks": "outside"
           }
          },
          "scene": {
           "xaxis": {
            "backgroundcolor": "white",
            "gridcolor": "rgb(232,232,232)",
            "gridwidth": 2,
            "linecolor": "rgb(36,36,36)",
            "showbackground": true,
            "showgrid": false,
            "showline": true,
            "ticks": "outside",
            "zeroline": false,
            "zerolinecolor": "rgb(36,36,36)"
           },
           "yaxis": {
            "backgroundcolor": "white",
            "gridcolor": "rgb(232,232,232)",
            "gridwidth": 2,
            "linecolor": "rgb(36,36,36)",
            "showbackground": true,
            "showgrid": false,
            "showline": true,
            "ticks": "outside",
            "zeroline": false,
            "zerolinecolor": "rgb(36,36,36)"
           },
           "zaxis": {
            "backgroundcolor": "white",
            "gridcolor": "rgb(232,232,232)",
            "gridwidth": 2,
            "linecolor": "rgb(36,36,36)",
            "showbackground": true,
            "showgrid": false,
            "showline": true,
            "ticks": "outside",
            "zeroline": false,
            "zerolinecolor": "rgb(36,36,36)"
           }
          },
          "shapedefaults": {
           "fillcolor": "black",
           "line": {
            "width": 0
           },
           "opacity": 0.3
          },
          "ternary": {
           "aaxis": {
            "gridcolor": "rgb(232,232,232)",
            "linecolor": "rgb(36,36,36)",
            "showgrid": false,
            "showline": true,
            "ticks": "outside"
           },
           "baxis": {
            "gridcolor": "rgb(232,232,232)",
            "linecolor": "rgb(36,36,36)",
            "showgrid": false,
            "showline": true,
            "ticks": "outside"
           },
           "bgcolor": "white",
           "caxis": {
            "gridcolor": "rgb(232,232,232)",
            "linecolor": "rgb(36,36,36)",
            "showgrid": false,
            "showline": true,
            "ticks": "outside"
           }
          },
          "title": {
           "x": 0.05
          },
          "xaxis": {
           "automargin": true,
           "gridcolor": "rgb(232,232,232)",
           "linecolor": "rgb(36,36,36)",
           "showgrid": false,
           "showline": true,
           "ticks": "outside",
           "title": {
            "standoff": 15
           },
           "zeroline": false,
           "zerolinecolor": "rgb(36,36,36)"
          },
          "yaxis": {
           "automargin": true,
           "gridcolor": "rgb(232,232,232)",
           "linecolor": "rgb(36,36,36)",
           "showgrid": false,
           "showline": true,
           "ticks": "outside",
           "title": {
            "standoff": 15
           },
           "zeroline": false,
           "zerolinecolor": "rgb(36,36,36)"
          }
         }
        },
        "xaxis": {
         "anchor": "y",
         "domain": [
          0.0,
          1.0
         ],
         "title": {
          "text": "Quantity"
         }
        },
        "yaxis": {
         "anchor": "x",
         "domain": [
          0.0,
          1.0
         ],
         "title": {
          "text": ""
         }
        },
        "legend": {
         "title": {
          "text": "Location"
         },
         "tracegroupgap": 0
        },
        "title": {
         "text": "Воронка продаж"
        }
       },
       "config": {
        "plotlyServerURL": "https://plot.ly"
       }
      },
      "text/html": "<div>                            <div id=\"60ea306d-b809-433a-8cca-060502fcbddd\" class=\"plotly-graph-div\" style=\"height:525px; width:100%;\"></div>            <script type=\"text/javascript\">                require([\"plotly\"], function(Plotly) {                    window.PLOTLYENV=window.PLOTLYENV || {};                                    if (document.getElementById(\"60ea306d-b809-433a-8cca-060502fcbddd\")) {                    Plotly.newPlot(                        \"60ea306d-b809-433a-8cca-060502fcbddd\",                        [{\"hovertemplate\":\"Location=\\u0414\\u0438\\u0440\\u0435\\u043a\\u0442<br>Quantity=%{x}<br>=%{y}<extra></extra>\",\"legendgroup\":\"\\u0414\\u0438\\u0440\\u0435\\u043a\\u0442\",\"marker\":{\"color\":\"#617588\"},\"name\":\"\\u0414\\u0438\\u0440\\u0435\\u043a\\u0442\",\"orientation\":\"h\",\"showlegend\":true,\"x\":[175169,67295,10702,95],\"xaxis\":\"x\",\"y\":[\"\\u0412\\u0441\\u0435\\u0433\\u043e \\u043f\\u043e\\u043b\\u044c\\u0437\\u043e\\u0432\\u0430\\u0442\\u0435\\u043b\\u0435\\u0439\",\"60 \\u0441\\u0435\\u043a\",\"\\u0421\\u043a\\u0440\\u043e\\u043b\\u043b 90%\",\"\\u041e\\u0442\\u043f\\u0440\\u0430\\u0432\\u0438\\u043b\\u0438 \\u0437\\u0430\\u044f\\u0432\\u043a\\u0443\"],\"yaxis\":\"y\",\"type\":\"funnel\"},{\"hovertemplate\":\"Location=\\u0420\\u0435\\u043a\\u043b\\u0430\\u043c\\u043d\\u044b\\u0439 \\u0442\\u0440\\u0430\\u0444\\u0438\\u043a<br>Quantity=%{x}<br>=%{y}<extra></extra>\",\"legendgroup\":\"\\u0420\\u0435\\u043a\\u043b\\u0430\\u043c\\u043d\\u044b\\u0439 \\u0442\\u0440\\u0430\\u0444\\u0438\\u043a\",\"marker\":{\"color\":\"#374B53\"},\"name\":\"\\u0420\\u0435\\u043a\\u043b\\u0430\\u043c\\u043d\\u044b\\u0439 \\u0442\\u0440\\u0430\\u0444\\u0438\\u043a\",\"orientation\":\"h\",\"showlegend\":true,\"x\":[325840,102607,17600,289],\"xaxis\":\"x\",\"y\":[\"\\u0412\\u0441\\u0435\\u0433\\u043e \\u043f\\u043e\\u043b\\u044c\\u0437\\u043e\\u0432\\u0430\\u0442\\u0435\\u043b\\u0435\\u0439\",\"60 \\u0441\\u0435\\u043a\",\"\\u0421\\u043a\\u0440\\u043e\\u043b\\u043b 90%\",\"\\u041e\\u0442\\u043f\\u0440\\u0430\\u0432\\u0438\\u043b\\u0438 \\u0437\\u0430\\u044f\\u0432\\u043a\\u0443\"],\"yaxis\":\"y\",\"type\":\"funnel\"},{\"hovertemplate\":\"Location=Email<br>Quantity=%{x}<br>=%{y}<extra></extra>\",\"legendgroup\":\"Email\",\"marker\":{\"color\":\"#2CA02C\"},\"name\":\"Email\",\"orientation\":\"h\",\"showlegend\":true,\"x\":[9517,3447,968,2],\"xaxis\":\"x\",\"y\":[\"\\u0412\\u0441\\u0435\\u0433\\u043e \\u043f\\u043e\\u043b\\u044c\\u0437\\u043e\\u0432\\u0430\\u0442\\u0435\\u043b\\u0435\\u0439\",\"60 \\u0441\\u0435\\u043a\",\"\\u0421\\u043a\\u0440\\u043e\\u043b\\u043b 90%\",\"\\u041e\\u0442\\u043f\\u0440\\u0430\\u0432\\u0438\\u043b\\u0438 \\u0437\\u0430\\u044f\\u0432\\u043a\\u0443\"],\"yaxis\":\"y\",\"type\":\"funnel\"}],                        {\"template\":{\"data\":{\"barpolar\":[{\"marker\":{\"line\":{\"color\":\"white\",\"width\":0.5},\"pattern\":{\"fillmode\":\"overlay\",\"size\":10,\"solidity\":0.2}},\"type\":\"barpolar\"}],\"bar\":[{\"error_x\":{\"color\":\"rgb(36,36,36)\"},\"error_y\":{\"color\":\"rgb(36,36,36)\"},\"marker\":{\"line\":{\"color\":\"white\",\"width\":0.5},\"pattern\":{\"fillmode\":\"overlay\",\"size\":10,\"solidity\":0.2}},\"type\":\"bar\"}],\"carpet\":[{\"aaxis\":{\"endlinecolor\":\"rgb(36,36,36)\",\"gridcolor\":\"white\",\"linecolor\":\"white\",\"minorgridcolor\":\"white\",\"startlinecolor\":\"rgb(36,36,36)\"},\"baxis\":{\"endlinecolor\":\"rgb(36,36,36)\",\"gridcolor\":\"white\",\"linecolor\":\"white\",\"minorgridcolor\":\"white\",\"startlinecolor\":\"rgb(36,36,36)\"},\"type\":\"carpet\"}],\"choropleth\":[{\"colorbar\":{\"outlinewidth\":1,\"tickcolor\":\"rgb(36,36,36)\",\"ticks\":\"outside\"},\"type\":\"choropleth\"}],\"contourcarpet\":[{\"colorbar\":{\"outlinewidth\":1,\"tickcolor\":\"rgb(36,36,36)\",\"ticks\":\"outside\"},\"type\":\"contourcarpet\"}],\"contour\":[{\"colorbar\":{\"outlinewidth\":1,\"tickcolor\":\"rgb(36,36,36)\",\"ticks\":\"outside\"},\"colorscale\":[[0.0,\"#440154\"],[0.1111111111111111,\"#482878\"],[0.2222222222222222,\"#3e4989\"],[0.3333333333333333,\"#31688e\"],[0.4444444444444444,\"#26828e\"],[0.5555555555555556,\"#1f9e89\"],[0.6666666666666666,\"#35b779\"],[0.7777777777777778,\"#6ece58\"],[0.8888888888888888,\"#b5de2b\"],[1.0,\"#fde725\"]],\"type\":\"contour\"}],\"heatmapgl\":[{\"colorbar\":{\"outlinewidth\":1,\"tickcolor\":\"rgb(36,36,36)\",\"ticks\":\"outside\"},\"colorscale\":[[0.0,\"#440154\"],[0.1111111111111111,\"#482878\"],[0.2222222222222222,\"#3e4989\"],[0.3333333333333333,\"#31688e\"],[0.4444444444444444,\"#26828e\"],[0.5555555555555556,\"#1f9e89\"],[0.6666666666666666,\"#35b779\"],[0.7777777777777778,\"#6ece58\"],[0.8888888888888888,\"#b5de2b\"],[1.0,\"#fde725\"]],\"type\":\"heatmapgl\"}],\"heatmap\":[{\"colorbar\":{\"outlinewidth\":1,\"tickcolor\":\"rgb(36,36,36)\",\"ticks\":\"outside\"},\"colorscale\":[[0.0,\"#440154\"],[0.1111111111111111,\"#482878\"],[0.2222222222222222,\"#3e4989\"],[0.3333333333333333,\"#31688e\"],[0.4444444444444444,\"#26828e\"],[0.5555555555555556,\"#1f9e89\"],[0.6666666666666666,\"#35b779\"],[0.7777777777777778,\"#6ece58\"],[0.8888888888888888,\"#b5de2b\"],[1.0,\"#fde725\"]],\"type\":\"heatmap\"}],\"histogram2dcontour\":[{\"colorbar\":{\"outlinewidth\":1,\"tickcolor\":\"rgb(36,36,36)\",\"ticks\":\"outside\"},\"colorscale\":[[0.0,\"#440154\"],[0.1111111111111111,\"#482878\"],[0.2222222222222222,\"#3e4989\"],[0.3333333333333333,\"#31688e\"],[0.4444444444444444,\"#26828e\"],[0.5555555555555556,\"#1f9e89\"],[0.6666666666666666,\"#35b779\"],[0.7777777777777778,\"#6ece58\"],[0.8888888888888888,\"#b5de2b\"],[1.0,\"#fde725\"]],\"type\":\"histogram2dcontour\"}],\"histogram2d\":[{\"colorbar\":{\"outlinewidth\":1,\"tickcolor\":\"rgb(36,36,36)\",\"ticks\":\"outside\"},\"colorscale\":[[0.0,\"#440154\"],[0.1111111111111111,\"#482878\"],[0.2222222222222222,\"#3e4989\"],[0.3333333333333333,\"#31688e\"],[0.4444444444444444,\"#26828e\"],[0.5555555555555556,\"#1f9e89\"],[0.6666666666666666,\"#35b779\"],[0.7777777777777778,\"#6ece58\"],[0.8888888888888888,\"#b5de2b\"],[1.0,\"#fde725\"]],\"type\":\"histogram2d\"}],\"histogram\":[{\"marker\":{\"line\":{\"color\":\"white\",\"width\":0.6}},\"type\":\"histogram\"}],\"mesh3d\":[{\"colorbar\":{\"outlinewidth\":1,\"tickcolor\":\"rgb(36,36,36)\",\"ticks\":\"outside\"},\"type\":\"mesh3d\"}],\"parcoords\":[{\"line\":{\"colorbar\":{\"outlinewidth\":1,\"tickcolor\":\"rgb(36,36,36)\",\"ticks\":\"outside\"}},\"type\":\"parcoords\"}],\"pie\":[{\"automargin\":true,\"type\":\"pie\"}],\"scatter3d\":[{\"line\":{\"colorbar\":{\"outlinewidth\":1,\"tickcolor\":\"rgb(36,36,36)\",\"ticks\":\"outside\"}},\"marker\":{\"colorbar\":{\"outlinewidth\":1,\"tickcolor\":\"rgb(36,36,36)\",\"ticks\":\"outside\"}},\"type\":\"scatter3d\"}],\"scattercarpet\":[{\"marker\":{\"colorbar\":{\"outlinewidth\":1,\"tickcolor\":\"rgb(36,36,36)\",\"ticks\":\"outside\"}},\"type\":\"scattercarpet\"}],\"scattergeo\":[{\"marker\":{\"colorbar\":{\"outlinewidth\":1,\"tickcolor\":\"rgb(36,36,36)\",\"ticks\":\"outside\"}},\"type\":\"scattergeo\"}],\"scattergl\":[{\"marker\":{\"colorbar\":{\"outlinewidth\":1,\"tickcolor\":\"rgb(36,36,36)\",\"ticks\":\"outside\"}},\"type\":\"scattergl\"}],\"scattermapbox\":[{\"marker\":{\"colorbar\":{\"outlinewidth\":1,\"tickcolor\":\"rgb(36,36,36)\",\"ticks\":\"outside\"}},\"type\":\"scattermapbox\"}],\"scatterpolargl\":[{\"marker\":{\"colorbar\":{\"outlinewidth\":1,\"tickcolor\":\"rgb(36,36,36)\",\"ticks\":\"outside\"}},\"type\":\"scatterpolargl\"}],\"scatterpolar\":[{\"marker\":{\"colorbar\":{\"outlinewidth\":1,\"tickcolor\":\"rgb(36,36,36)\",\"ticks\":\"outside\"}},\"type\":\"scatterpolar\"}],\"scatter\":[{\"fillpattern\":{\"fillmode\":\"overlay\",\"size\":10,\"solidity\":0.2},\"type\":\"scatter\"}],\"scatterternary\":[{\"marker\":{\"colorbar\":{\"outlinewidth\":1,\"tickcolor\":\"rgb(36,36,36)\",\"ticks\":\"outside\"}},\"type\":\"scatterternary\"}],\"surface\":[{\"colorbar\":{\"outlinewidth\":1,\"tickcolor\":\"rgb(36,36,36)\",\"ticks\":\"outside\"},\"colorscale\":[[0.0,\"#440154\"],[0.1111111111111111,\"#482878\"],[0.2222222222222222,\"#3e4989\"],[0.3333333333333333,\"#31688e\"],[0.4444444444444444,\"#26828e\"],[0.5555555555555556,\"#1f9e89\"],[0.6666666666666666,\"#35b779\"],[0.7777777777777778,\"#6ece58\"],[0.8888888888888888,\"#b5de2b\"],[1.0,\"#fde725\"]],\"type\":\"surface\"}],\"table\":[{\"cells\":{\"fill\":{\"color\":\"rgb(237,237,237)\"},\"line\":{\"color\":\"white\"}},\"header\":{\"fill\":{\"color\":\"rgb(217,217,217)\"},\"line\":{\"color\":\"white\"}},\"type\":\"table\"}]},\"layout\":{\"annotationdefaults\":{\"arrowhead\":0,\"arrowwidth\":1},\"autotypenumbers\":\"strict\",\"coloraxis\":{\"colorbar\":{\"outlinewidth\":1,\"tickcolor\":\"rgb(36,36,36)\",\"ticks\":\"outside\"}},\"colorscale\":{\"diverging\":[[0.0,\"rgb(103,0,31)\"],[0.1,\"rgb(178,24,43)\"],[0.2,\"rgb(214,96,77)\"],[0.3,\"rgb(244,165,130)\"],[0.4,\"rgb(253,219,199)\"],[0.5,\"rgb(247,247,247)\"],[0.6,\"rgb(209,229,240)\"],[0.7,\"rgb(146,197,222)\"],[0.8,\"rgb(67,147,195)\"],[0.9,\"rgb(33,102,172)\"],[1.0,\"rgb(5,48,97)\"]],\"sequential\":[[0.0,\"#440154\"],[0.1111111111111111,\"#482878\"],[0.2222222222222222,\"#3e4989\"],[0.3333333333333333,\"#31688e\"],[0.4444444444444444,\"#26828e\"],[0.5555555555555556,\"#1f9e89\"],[0.6666666666666666,\"#35b779\"],[0.7777777777777778,\"#6ece58\"],[0.8888888888888888,\"#b5de2b\"],[1.0,\"#fde725\"]],\"sequentialminus\":[[0.0,\"#440154\"],[0.1111111111111111,\"#482878\"],[0.2222222222222222,\"#3e4989\"],[0.3333333333333333,\"#31688e\"],[0.4444444444444444,\"#26828e\"],[0.5555555555555556,\"#1f9e89\"],[0.6666666666666666,\"#35b779\"],[0.7777777777777778,\"#6ece58\"],[0.8888888888888888,\"#b5de2b\"],[1.0,\"#fde725\"]]},\"colorway\":[\"#1F77B4\",\"#FF7F0E\",\"#2CA02C\",\"#D62728\",\"#9467BD\",\"#8C564B\",\"#E377C2\",\"#7F7F7F\",\"#BCBD22\",\"#17BECF\"],\"font\":{\"color\":\"rgb(36,36,36)\"},\"geo\":{\"bgcolor\":\"white\",\"lakecolor\":\"white\",\"landcolor\":\"white\",\"showlakes\":true,\"showland\":true,\"subunitcolor\":\"white\"},\"hoverlabel\":{\"align\":\"left\"},\"hovermode\":\"closest\",\"mapbox\":{\"style\":\"light\"},\"paper_bgcolor\":\"white\",\"plot_bgcolor\":\"white\",\"polar\":{\"angularaxis\":{\"gridcolor\":\"rgb(232,232,232)\",\"linecolor\":\"rgb(36,36,36)\",\"showgrid\":false,\"showline\":true,\"ticks\":\"outside\"},\"bgcolor\":\"white\",\"radialaxis\":{\"gridcolor\":\"rgb(232,232,232)\",\"linecolor\":\"rgb(36,36,36)\",\"showgrid\":false,\"showline\":true,\"ticks\":\"outside\"}},\"scene\":{\"xaxis\":{\"backgroundcolor\":\"white\",\"gridcolor\":\"rgb(232,232,232)\",\"gridwidth\":2,\"linecolor\":\"rgb(36,36,36)\",\"showbackground\":true,\"showgrid\":false,\"showline\":true,\"ticks\":\"outside\",\"zeroline\":false,\"zerolinecolor\":\"rgb(36,36,36)\"},\"yaxis\":{\"backgroundcolor\":\"white\",\"gridcolor\":\"rgb(232,232,232)\",\"gridwidth\":2,\"linecolor\":\"rgb(36,36,36)\",\"showbackground\":true,\"showgrid\":false,\"showline\":true,\"ticks\":\"outside\",\"zeroline\":false,\"zerolinecolor\":\"rgb(36,36,36)\"},\"zaxis\":{\"backgroundcolor\":\"white\",\"gridcolor\":\"rgb(232,232,232)\",\"gridwidth\":2,\"linecolor\":\"rgb(36,36,36)\",\"showbackground\":true,\"showgrid\":false,\"showline\":true,\"ticks\":\"outside\",\"zeroline\":false,\"zerolinecolor\":\"rgb(36,36,36)\"}},\"shapedefaults\":{\"fillcolor\":\"black\",\"line\":{\"width\":0},\"opacity\":0.3},\"ternary\":{\"aaxis\":{\"gridcolor\":\"rgb(232,232,232)\",\"linecolor\":\"rgb(36,36,36)\",\"showgrid\":false,\"showline\":true,\"ticks\":\"outside\"},\"baxis\":{\"gridcolor\":\"rgb(232,232,232)\",\"linecolor\":\"rgb(36,36,36)\",\"showgrid\":false,\"showline\":true,\"ticks\":\"outside\"},\"bgcolor\":\"white\",\"caxis\":{\"gridcolor\":\"rgb(232,232,232)\",\"linecolor\":\"rgb(36,36,36)\",\"showgrid\":false,\"showline\":true,\"ticks\":\"outside\"}},\"title\":{\"x\":0.05},\"xaxis\":{\"automargin\":true,\"gridcolor\":\"rgb(232,232,232)\",\"linecolor\":\"rgb(36,36,36)\",\"showgrid\":false,\"showline\":true,\"ticks\":\"outside\",\"title\":{\"standoff\":15},\"zeroline\":false,\"zerolinecolor\":\"rgb(36,36,36)\"},\"yaxis\":{\"automargin\":true,\"gridcolor\":\"rgb(232,232,232)\",\"linecolor\":\"rgb(36,36,36)\",\"showgrid\":false,\"showline\":true,\"ticks\":\"outside\",\"title\":{\"standoff\":15},\"zeroline\":false,\"zerolinecolor\":\"rgb(36,36,36)\"}}},\"xaxis\":{\"anchor\":\"y\",\"domain\":[0.0,1.0],\"title\":{\"text\":\"Quantity\"}},\"yaxis\":{\"anchor\":\"x\",\"domain\":[0.0,1.0],\"title\":{\"text\":\"\"}},\"legend\":{\"title\":{\"text\":\"Location\"},\"tracegroupgap\":0},\"title\":{\"text\":\"\\u0412\\u043e\\u0440\\u043e\\u043d\\u043a\\u0430 \\u043f\\u0440\\u043e\\u0434\\u0430\\u0436\"}},                        {\"responsive\": true}                    ).then(function(){\n                            \nvar gd = document.getElementById('60ea306d-b809-433a-8cca-060502fcbddd');\nvar x = new MutationObserver(function (mutations, observer) {{\n        var display = window.getComputedStyle(gd).display;\n        if (!display || display === 'none') {{\n            console.log([gd, 'removed!']);\n            Plotly.purge(gd);\n            observer.disconnect();\n        }}\n}});\n\n// Listen for the removal of the full notebook cells\nvar notebookContainer = gd.closest('#notebook-container');\nif (notebookContainer) {{\n    x.observe(notebookContainer, {childList: true});\n}}\n\n// Listen for the clearing of the current output cell\nvar outputEl = gd.closest('.output');\nif (outputEl) {{\n    x.observe(outputEl, {childList: true});\n}}\n\n                        })                };                });            </script>        </div>"
     },
     "metadata": {},
     "output_type": "display_data"
    }
   ],
   "source": [
    "import plotly.express as px\n",
    "\n",
    "data = dict(Quantity=quantity,\n",
    "            Stage=['Всего пользователей', '60 сек', 'Скролл 90%', 'Отправили заявку']*3,\n",
    "            Location= ['Директ']*4 + ['Рекламный трафик']*4 + ['Email']*4)\n",
    "\n",
    "fig = px.funnel(data, y='Stage', x='Quantity', color='Location',\n",
    "                color_discrete_map={\"Рекламный трафик\": \"#374B53\",\n",
    "                                    \"Директ\": \"#617588\"},\n",
    "                template=\"simple_white\",\n",
    "                title='Воронка продаж',\n",
    "                labels={\"Stage\": \"\"})\n",
    "fig.show()"
   ]
  },
  {
   "cell_type": "markdown",
   "source": [
    "Страшная воронка..."
   ],
   "metadata": {
    "collapsed": false,
    "pycharm": {
     "name": "#%% md\n"
    }
   }
  },
  {
   "cell_type": "markdown",
   "metadata": {
    "pycharm": {
     "name": "#%% md\n"
    }
   },
   "source": [
    "## Этап 6. Выявление инсайтов в данных"
   ]
  },
  {
   "cell_type": "markdown",
   "metadata": {
    "pycharm": {
     "name": "#%% md\n"
    }
   },
   "source": [
    "#### Какие действия клиенты GB совершают чаще всего?"
   ]
  },
  {
   "cell_type": "code",
   "execution_count": 217,
   "outputs": [
    {
     "data": {
      "text/plain": "                                    url   count\n2042            https://gb.ru/education  150196\n486                      https://gb.ru/  126766\n4468  https://gb.ru/s/edufree/besplatno  108939\n2762                https://gb.ru/login   56082\n1131              https://gb.ru/courses   17106",
      "text/html": "<div>\n<style scoped>\n    .dataframe tbody tr th:only-of-type {\n        vertical-align: middle;\n    }\n\n    .dataframe tbody tr th {\n        vertical-align: top;\n    }\n\n    .dataframe thead th {\n        text-align: right;\n    }\n</style>\n<table border=\"1\" class=\"dataframe\">\n  <thead>\n    <tr style=\"text-align: right;\">\n      <th></th>\n      <th>url</th>\n      <th>count</th>\n    </tr>\n  </thead>\n  <tbody>\n    <tr>\n      <th>2042</th>\n      <td>https://gb.ru/education</td>\n      <td>150196</td>\n    </tr>\n    <tr>\n      <th>486</th>\n      <td>https://gb.ru/</td>\n      <td>126766</td>\n    </tr>\n    <tr>\n      <th>4468</th>\n      <td>https://gb.ru/s/edufree/besplatno</td>\n      <td>108939</td>\n    </tr>\n    <tr>\n      <th>2762</th>\n      <td>https://gb.ru/login</td>\n      <td>56082</td>\n    </tr>\n    <tr>\n      <th>1131</th>\n      <td>https://gb.ru/courses</td>\n      <td>17106</td>\n    </tr>\n  </tbody>\n</table>\n</div>"
     },
     "execution_count": 217,
     "metadata": {},
     "output_type": "execute_result"
    }
   ],
   "source": [
    "origin_ds.groupby('url').size().to_frame('count').reset_index().sort_values('count', ascending=False)[:5]"
   ],
   "metadata": {
    "collapsed": false,
    "pycharm": {
     "name": "#%%\n"
    }
   }
  },
  {
   "cell_type": "raw",
   "source": [
    "Вывод: чаще всего пользователи посещают раздел \"Моё обучение\", главную страницу сайта и бесплатных курсов"
   ],
   "metadata": {
    "collapsed": false,
    "pycharm": {
     "name": "#%% raw\n"
    }
   }
  },
  {
   "cell_type": "markdown",
   "source": [
    "#### Есть ли аномалии в поведении пользователей: например, большое число коротких (менее 60 с.) сессий? С чем эти аномалии могут быть связаны?"
   ],
   "metadata": {
    "collapsed": false,
    "pycharm": {
     "name": "#%% md\n"
    }
   }
  },
  {
   "cell_type": "code",
   "execution_count": 218,
   "outputs": [
    {
     "data": {
      "text/plain": "   60sec   count\n0  False  607212\n1   True  277195",
      "text/html": "<div>\n<style scoped>\n    .dataframe tbody tr th:only-of-type {\n        vertical-align: middle;\n    }\n\n    .dataframe tbody tr th {\n        vertical-align: top;\n    }\n\n    .dataframe thead th {\n        text-align: right;\n    }\n</style>\n<table border=\"1\" class=\"dataframe\">\n  <thead>\n    <tr style=\"text-align: right;\">\n      <th></th>\n      <th>60sec</th>\n      <th>count</th>\n    </tr>\n  </thead>\n  <tbody>\n    <tr>\n      <th>0</th>\n      <td>False</td>\n      <td>607212</td>\n    </tr>\n    <tr>\n      <th>1</th>\n      <td>True</td>\n      <td>277195</td>\n    </tr>\n  </tbody>\n</table>\n</div>"
     },
     "execution_count": 218,
     "metadata": {},
     "output_type": "execute_result"
    }
   ],
   "source": [
    "origin_ds.groupby('60sec').size().to_frame('count').reset_index()"
   ],
   "metadata": {
    "collapsed": false,
    "pycharm": {
     "name": "#%%\n"
    }
   }
  },
  {
   "cell_type": "code",
   "execution_count": 219,
   "outputs": [
    {
     "data": {
      "text/plain": "   60sec   count\n0  False  337177\n1   True  173349",
      "text/html": "<div>\n<style scoped>\n    .dataframe tbody tr th:only-of-type {\n        vertical-align: middle;\n    }\n\n    .dataframe tbody tr th {\n        vertical-align: top;\n    }\n\n    .dataframe thead th {\n        text-align: right;\n    }\n</style>\n<table border=\"1\" class=\"dataframe\">\n  <thead>\n    <tr style=\"text-align: right;\">\n      <th></th>\n      <th>60sec</th>\n      <th>count</th>\n    </tr>\n  </thead>\n  <tbody>\n    <tr>\n      <th>0</th>\n      <td>False</td>\n      <td>337177</td>\n    </tr>\n    <tr>\n      <th>1</th>\n      <td>True</td>\n      <td>173349</td>\n    </tr>\n  </tbody>\n</table>\n</div>"
     },
     "execution_count": 219,
     "metadata": {},
     "output_type": "execute_result"
    }
   ],
   "source": [
    "ds.groupby('60sec').size().to_frame('count').reset_index()"
   ],
   "metadata": {
    "collapsed": false,
    "pycharm": {
     "name": "#%%\n"
    }
   }
  },
  {
   "cell_type": "markdown",
   "source": [
    "Для начала очень много событий с тестовых или локальных копий проекта, плюс тут собираются заходы администраторов, тестировщиков и прочего персонала, так же короткие сессии могут быть связанны с скликиванием рекламы ботами и соперниками или пользователями которые случайно зашли."
   ],
   "metadata": {
    "collapsed": false,
    "pycharm": {
     "name": "#%% md\n"
    }
   }
  },
  {
   "cell_type": "markdown",
   "source": [
    "#### На каких страницах прокрутка 90% и более?"
   ],
   "metadata": {
    "collapsed": false,
    "pycharm": {
     "name": "#%% md\n"
    }
   },
   "execution_count": 187
  },
  {
   "cell_type": "code",
   "execution_count": 220,
   "outputs": [
    {
     "data": {
      "text/plain": "                                    url  count\n1735  https://gb.ru/s/edufree/besplatno  26975\n272            https://gb.ru/comms/chat  13277\n643             https://gb.ru/education  12438\n95                   https://gb.ru/a/m7   8061\n271        https://gb.ru/comms/calendar   5647",
      "text/html": "<div>\n<style scoped>\n    .dataframe tbody tr th:only-of-type {\n        vertical-align: middle;\n    }\n\n    .dataframe tbody tr th {\n        vertical-align: top;\n    }\n\n    .dataframe thead th {\n        text-align: right;\n    }\n</style>\n<table border=\"1\" class=\"dataframe\">\n  <thead>\n    <tr style=\"text-align: right;\">\n      <th></th>\n      <th>url</th>\n      <th>count</th>\n    </tr>\n  </thead>\n  <tbody>\n    <tr>\n      <th>1735</th>\n      <td>https://gb.ru/s/edufree/besplatno</td>\n      <td>26975</td>\n    </tr>\n    <tr>\n      <th>272</th>\n      <td>https://gb.ru/comms/chat</td>\n      <td>13277</td>\n    </tr>\n    <tr>\n      <th>643</th>\n      <td>https://gb.ru/education</td>\n      <td>12438</td>\n    </tr>\n    <tr>\n      <th>95</th>\n      <td>https://gb.ru/a/m7</td>\n      <td>8061</td>\n    </tr>\n    <tr>\n      <th>271</th>\n      <td>https://gb.ru/comms/calendar</td>\n      <td>5647</td>\n    </tr>\n  </tbody>\n</table>\n</div>"
     },
     "execution_count": 220,
     "metadata": {},
     "output_type": "execute_result"
    }
   ],
   "source": [
    "origin_ds[origin_ds['scroll_90'] == True].groupby('url').size().to_frame('count').reset_index().sort_values('count', ascending=False)[:5]"
   ],
   "metadata": {
    "collapsed": false,
    "pycharm": {
     "name": "#%%\n"
    }
   }
  },
  {
   "cell_type": "markdown",
   "source": [
    "И опять в топе страницы бесплатных курсов, и почему то чат, хотя чат открывается в полноэкраном режиме без скрола (не считая внутренего с сообщениями).\n",
    "По моему на таких страницах как календарь, чат считать скролл крайне странное решение"
   ],
   "metadata": {
    "collapsed": false,
    "pycharm": {
     "name": "#%% md\n"
    }
   }
  },
  {
   "cell_type": "markdown",
   "source": [
    "#### В какие даты было больше всего сессий? Рассчитайте DAU, MAU, WAU.\n",
    "Статистика всего за 4 дня :)"
   ],
   "metadata": {
    "collapsed": false,
    "pycharm": {
     "name": "#%% md\n"
    }
   }
  },
  {
   "cell_type": "code",
   "execution_count": 221,
   "outputs": [
    {
     "data": {
      "text/plain": "    hit_date   count\n1 2021-12-02  250158\n0 2021-12-01  227725\n3 2021-12-04  211636\n2 2021-12-03  194888",
      "text/html": "<div>\n<style scoped>\n    .dataframe tbody tr th:only-of-type {\n        vertical-align: middle;\n    }\n\n    .dataframe tbody tr th {\n        vertical-align: top;\n    }\n\n    .dataframe thead th {\n        text-align: right;\n    }\n</style>\n<table border=\"1\" class=\"dataframe\">\n  <thead>\n    <tr style=\"text-align: right;\">\n      <th></th>\n      <th>hit_date</th>\n      <th>count</th>\n    </tr>\n  </thead>\n  <tbody>\n    <tr>\n      <th>1</th>\n      <td>2021-12-02</td>\n      <td>250158</td>\n    </tr>\n    <tr>\n      <th>0</th>\n      <td>2021-12-01</td>\n      <td>227725</td>\n    </tr>\n    <tr>\n      <th>3</th>\n      <td>2021-12-04</td>\n      <td>211636</td>\n    </tr>\n    <tr>\n      <th>2</th>\n      <td>2021-12-03</td>\n      <td>194888</td>\n    </tr>\n  </tbody>\n</table>\n</div>"
     },
     "execution_count": 221,
     "metadata": {},
     "output_type": "execute_result"
    }
   ],
   "source": [
    "origin_ds.groupby('hit_date').size().to_frame('count').reset_index().sort_values('count', ascending=False)"
   ],
   "metadata": {
    "collapsed": false,
    "pycharm": {
     "name": "#%%\n"
    }
   }
  },
  {
   "cell_type": "markdown",
   "source": [
    "Больше всего сессий было 2021-12-02"
   ],
   "metadata": {
    "collapsed": false,
    "pycharm": {
     "name": "#%% md\n"
    }
   }
  },
  {
   "cell_type": "markdown",
   "source": [
    "#### Какие изменения на сайте могут улучшить показатели: число посещений, длительность сессии и другие?\n",
    "Тут перед тем как делать выводы о улучшении сайта необходимо получить нормальный лог, параметров крайне мало и многие не информативны.\n",
    "Улучшить лог достаточно просто, сделать привязку к пользователю а не к сессии, считать не просто длительность 60 сек, а длительность всей сессии, или добавить ещё 2 поля 30сек, 5сек, таким образом можно будет сразу убрать кучу мусора в виде сессий которые длились меньше 15 секунд. Так же лучше использовать не просто параметр тачскрин, а устройство с которого зашел пользователь, там сразу неопеределнность с тачскрином пропадёт.\n",
    "По поводу использования пользователей вместо сессий ситуация решается просто, используется или ид пользователя, если он залогинен, или используется технология browser fingerprint для анонимов\n",
    "\n",
    "Как можно видеть по графикам выше больше всего люди проявляют интерес не к отдельному курсу, а его набору или факультетам, а так же к бесплатным курсам. Для привлечения можно людей и увеличения конверсионости можно использовать таргетированную рекламу, как видим больше всего откликов у мужчин 20-40 лет. Так же, с учетом интереса к бесплатным курсам можно расширить их количество или сделать условно бесплатные курсы, т.е. давать бесплатный доступ до определенного момента."
   ],
   "metadata": {
    "collapsed": false,
    "pycharm": {
     "name": "#%% md\n"
    }
   }
  }
 ],
 "metadata": {
  "celltoolbar": "Отсутствует",
  "kernelspec": {
   "display_name": "Python 3 (ipykernel)",
   "language": "python",
   "name": "python3"
  },
  "language_info": {
   "codemirror_mode": {
    "name": "ipython",
    "version": 3
   },
   "file_extension": ".py",
   "mimetype": "text/x-python",
   "name": "python",
   "nbconvert_exporter": "python",
   "pygments_lexer": "ipython3",
   "version": "3.8.10"
  }
 },
 "nbformat": 4,
 "nbformat_minor": 1
}