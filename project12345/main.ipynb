{
 "cells": [
  {
   "cell_type": "markdown",
   "metadata": {
    "collapsed": true,
    "pycharm": {
     "name": "#%% md\n"
    }
   },
   "source": [
    "# Анализ поведения клиентов на примере сайта GB"
   ]
  },
  {
   "cell_type": "markdown",
   "metadata": {
    "pycharm": {
     "name": "#%% md\n"
    }
   },
   "source": [
    "## Этап 1. Загрузка данных. Проверка корректности типов данных"
   ]
  },
  {
   "cell_type": "markdown",
   "source": [
    "Самый интересный параметр в данном датасете claim (признак отправки формы), в связи с этим все исследования будем строить вокруг этого параметра"
   ],
   "metadata": {
    "collapsed": false,
    "pycharm": {
     "name": "#%% md\n"
    }
   }
  },
  {
   "cell_type": "code",
   "execution_count": 79,
   "metadata": {
    "pycharm": {
     "name": "#%%\n"
    }
   },
   "outputs": [],
   "source": [
    "import pandas as pd\n",
    "import numpy as np\n",
    "import seaborn as sns\n",
    "import matplotlib.pyplot as plt\n",
    "import warnings\n",
    "warnings.filterwarnings('ignore')"
   ]
  },
  {
   "cell_type": "code",
   "execution_count": 80,
   "metadata": {
    "pycharm": {
     "name": "#%%\n"
    }
   },
   "outputs": [
    {
     "data": {
      "text/plain": "         session_id  claim  60sec  scroll_90    hit_date  \\\n0  4358a11f0d16be6e      0      0          1  2021-12-01   \n1  133509b7ff9a586c      0      0          0  2021-12-01   \n2  8b23cd36f2b08dcd      0      0          0  2021-12-01   \n3  50de4c060fd128f3      0      1          1  2021-12-01   \n4  c2ca3cc9a67c749b      0      0          0  2021-12-01   \n\n                                  referer_url  \\\n0                     https://gb.ru/education   \n1                     https://www.google.com/   \n2  https://gb.ru/tests/352/trials/2238911/run   \n3                  https://gb.ru/courses/1165   \n4                                         NaN   \n\n                                      url utm_source utm_medium  gender  age  \\\n0            https://gb.ru/comms/calendar        NaN        NaN       0   39   \n1       https://gb.ru/courses/programming     google        cpc      -1   -1   \n2  https://gb.ru/tests/352/trials/2238911        NaN        NaN       1   49   \n3                      https://gb.ru/a/a1        NaN        NaN      -1   -1   \n4                     https://gb.ru/login        NaN        NaN       0   23   \n\n   touch_screen  has_vk_id  has_ok_id  \n0             1          1          0  \n1             2          0          0  \n2             1          1          1  \n3             1          1          0  \n4             2          1          0  ",
      "text/html": "<div>\n<style scoped>\n    .dataframe tbody tr th:only-of-type {\n        vertical-align: middle;\n    }\n\n    .dataframe tbody tr th {\n        vertical-align: top;\n    }\n\n    .dataframe thead th {\n        text-align: right;\n    }\n</style>\n<table border=\"1\" class=\"dataframe\">\n  <thead>\n    <tr style=\"text-align: right;\">\n      <th></th>\n      <th>session_id</th>\n      <th>claim</th>\n      <th>60sec</th>\n      <th>scroll_90</th>\n      <th>hit_date</th>\n      <th>referer_url</th>\n      <th>url</th>\n      <th>utm_source</th>\n      <th>utm_medium</th>\n      <th>gender</th>\n      <th>age</th>\n      <th>touch_screen</th>\n      <th>has_vk_id</th>\n      <th>has_ok_id</th>\n    </tr>\n  </thead>\n  <tbody>\n    <tr>\n      <th>0</th>\n      <td>4358a11f0d16be6e</td>\n      <td>0</td>\n      <td>0</td>\n      <td>1</td>\n      <td>2021-12-01</td>\n      <td>https://gb.ru/education</td>\n      <td>https://gb.ru/comms/calendar</td>\n      <td>NaN</td>\n      <td>NaN</td>\n      <td>0</td>\n      <td>39</td>\n      <td>1</td>\n      <td>1</td>\n      <td>0</td>\n    </tr>\n    <tr>\n      <th>1</th>\n      <td>133509b7ff9a586c</td>\n      <td>0</td>\n      <td>0</td>\n      <td>0</td>\n      <td>2021-12-01</td>\n      <td>https://www.google.com/</td>\n      <td>https://gb.ru/courses/programming</td>\n      <td>google</td>\n      <td>cpc</td>\n      <td>-1</td>\n      <td>-1</td>\n      <td>2</td>\n      <td>0</td>\n      <td>0</td>\n    </tr>\n    <tr>\n      <th>2</th>\n      <td>8b23cd36f2b08dcd</td>\n      <td>0</td>\n      <td>0</td>\n      <td>0</td>\n      <td>2021-12-01</td>\n      <td>https://gb.ru/tests/352/trials/2238911/run</td>\n      <td>https://gb.ru/tests/352/trials/2238911</td>\n      <td>NaN</td>\n      <td>NaN</td>\n      <td>1</td>\n      <td>49</td>\n      <td>1</td>\n      <td>1</td>\n      <td>1</td>\n    </tr>\n    <tr>\n      <th>3</th>\n      <td>50de4c060fd128f3</td>\n      <td>0</td>\n      <td>1</td>\n      <td>1</td>\n      <td>2021-12-01</td>\n      <td>https://gb.ru/courses/1165</td>\n      <td>https://gb.ru/a/a1</td>\n      <td>NaN</td>\n      <td>NaN</td>\n      <td>-1</td>\n      <td>-1</td>\n      <td>1</td>\n      <td>1</td>\n      <td>0</td>\n    </tr>\n    <tr>\n      <th>4</th>\n      <td>c2ca3cc9a67c749b</td>\n      <td>0</td>\n      <td>0</td>\n      <td>0</td>\n      <td>2021-12-01</td>\n      <td>NaN</td>\n      <td>https://gb.ru/login</td>\n      <td>NaN</td>\n      <td>NaN</td>\n      <td>0</td>\n      <td>23</td>\n      <td>2</td>\n      <td>1</td>\n      <td>0</td>\n    </tr>\n  </tbody>\n</table>\n</div>"
     },
     "execution_count": 80,
     "metadata": {},
     "output_type": "execute_result"
    }
   ],
   "source": [
    "ds = pd.read_csv('./gb_dataset.csv')\n",
    "ds.head()"
   ]
  },
  {
   "cell_type": "code",
   "execution_count": 81,
   "metadata": {
    "pycharm": {
     "name": "#%%\n"
    }
   },
   "outputs": [
    {
     "name": "stdout",
     "output_type": "stream",
     "text": [
      "<class 'pandas.core.frame.DataFrame'>\n",
      "RangeIndex: 884407 entries, 0 to 884406\n",
      "Data columns (total 14 columns):\n",
      " #   Column        Non-Null Count   Dtype \n",
      "---  ------        --------------   ----- \n",
      " 0   session_id    884407 non-null  object\n",
      " 1   claim         884407 non-null  int64 \n",
      " 2   60sec         884407 non-null  int64 \n",
      " 3   scroll_90     884407 non-null  int64 \n",
      " 4   hit_date      884407 non-null  object\n",
      " 5   referer_url   687598 non-null  object\n",
      " 6   url           884407 non-null  object\n",
      " 7   utm_source    245184 non-null  object\n",
      " 8   utm_medium    244863 non-null  object\n",
      " 9   gender        884407 non-null  int64 \n",
      " 10  age           884407 non-null  int64 \n",
      " 11  touch_screen  884407 non-null  int64 \n",
      " 12  has_vk_id     884407 non-null  int64 \n",
      " 13  has_ok_id     884407 non-null  int64 \n",
      "dtypes: int64(8), object(6)\n",
      "memory usage: 94.5+ MB\n"
     ]
    }
   ],
   "source": [
    "ds.info()"
   ]
  },
  {
   "cell_type": "code",
   "execution_count": 82,
   "metadata": {
    "pycharm": {
     "name": "#%%\n"
    }
   },
   "outputs": [
    {
     "data": {
      "text/plain": "               claim          60sec      scroll_90         gender  \\\ncount  884407.000000  884407.000000  884407.000000  884407.000000   \nmean        0.002071       0.313425       0.144197      -0.359456   \nstd         0.045466       0.463886       0.351290       0.808853   \nmin         0.000000       0.000000       0.000000      -1.000000   \n25%         0.000000       0.000000       0.000000      -1.000000   \n50%         0.000000       0.000000       0.000000      -1.000000   \n75%         0.000000       1.000000       0.000000       0.000000   \nmax         1.000000       1.000000       1.000000       1.000000   \n\n                 age   touch_screen      has_vk_id      has_ok_id  \ncount  884407.000000  884407.000000  884407.000000  884407.000000  \nmean       14.844552       1.436307       0.449500       0.124044  \nstd        21.505421       0.495927       0.497444       0.329631  \nmin        -1.000000       1.000000       0.000000       0.000000  \n25%        -1.000000       1.000000       0.000000       0.000000  \n50%        -1.000000       1.000000       0.000000       0.000000  \n75%        29.000000       2.000000       1.000000       0.000000  \nmax       120.000000       2.000000       1.000000       1.000000  ",
      "text/html": "<div>\n<style scoped>\n    .dataframe tbody tr th:only-of-type {\n        vertical-align: middle;\n    }\n\n    .dataframe tbody tr th {\n        vertical-align: top;\n    }\n\n    .dataframe thead th {\n        text-align: right;\n    }\n</style>\n<table border=\"1\" class=\"dataframe\">\n  <thead>\n    <tr style=\"text-align: right;\">\n      <th></th>\n      <th>claim</th>\n      <th>60sec</th>\n      <th>scroll_90</th>\n      <th>gender</th>\n      <th>age</th>\n      <th>touch_screen</th>\n      <th>has_vk_id</th>\n      <th>has_ok_id</th>\n    </tr>\n  </thead>\n  <tbody>\n    <tr>\n      <th>count</th>\n      <td>884407.000000</td>\n      <td>884407.000000</td>\n      <td>884407.000000</td>\n      <td>884407.000000</td>\n      <td>884407.000000</td>\n      <td>884407.000000</td>\n      <td>884407.000000</td>\n      <td>884407.000000</td>\n    </tr>\n    <tr>\n      <th>mean</th>\n      <td>0.002071</td>\n      <td>0.313425</td>\n      <td>0.144197</td>\n      <td>-0.359456</td>\n      <td>14.844552</td>\n      <td>1.436307</td>\n      <td>0.449500</td>\n      <td>0.124044</td>\n    </tr>\n    <tr>\n      <th>std</th>\n      <td>0.045466</td>\n      <td>0.463886</td>\n      <td>0.351290</td>\n      <td>0.808853</td>\n      <td>21.505421</td>\n      <td>0.495927</td>\n      <td>0.497444</td>\n      <td>0.329631</td>\n    </tr>\n    <tr>\n      <th>min</th>\n      <td>0.000000</td>\n      <td>0.000000</td>\n      <td>0.000000</td>\n      <td>-1.000000</td>\n      <td>-1.000000</td>\n      <td>1.000000</td>\n      <td>0.000000</td>\n      <td>0.000000</td>\n    </tr>\n    <tr>\n      <th>25%</th>\n      <td>0.000000</td>\n      <td>0.000000</td>\n      <td>0.000000</td>\n      <td>-1.000000</td>\n      <td>-1.000000</td>\n      <td>1.000000</td>\n      <td>0.000000</td>\n      <td>0.000000</td>\n    </tr>\n    <tr>\n      <th>50%</th>\n      <td>0.000000</td>\n      <td>0.000000</td>\n      <td>0.000000</td>\n      <td>-1.000000</td>\n      <td>-1.000000</td>\n      <td>1.000000</td>\n      <td>0.000000</td>\n      <td>0.000000</td>\n    </tr>\n    <tr>\n      <th>75%</th>\n      <td>0.000000</td>\n      <td>1.000000</td>\n      <td>0.000000</td>\n      <td>0.000000</td>\n      <td>29.000000</td>\n      <td>2.000000</td>\n      <td>1.000000</td>\n      <td>0.000000</td>\n    </tr>\n    <tr>\n      <th>max</th>\n      <td>1.000000</td>\n      <td>1.000000</td>\n      <td>1.000000</td>\n      <td>1.000000</td>\n      <td>120.000000</td>\n      <td>2.000000</td>\n      <td>1.000000</td>\n      <td>1.000000</td>\n    </tr>\n  </tbody>\n</table>\n</div>"
     },
     "execution_count": 82,
     "metadata": {},
     "output_type": "execute_result"
    }
   ],
   "source": [
    "ds.describe()"
   ]
  },
  {
   "cell_type": "code",
   "execution_count": 83,
   "metadata": {
    "pycharm": {
     "name": "#%%\n"
    }
   },
   "outputs": [
    {
     "name": "stdout",
     "output_type": "stream",
     "text": [
      "Количество уникальных сессий:  864092\n",
      "Всего сессии:  884407\n"
     ]
    }
   ],
   "source": [
    "print('Количество уникальных сессий: ', ds['session_id'].nunique())\n",
    "print('Всего сессии: ',ds['session_id'].count())"
   ]
  },
  {
   "cell_type": "code",
   "execution_count": 84,
   "metadata": {
    "pycharm": {
     "name": "#%%\n"
    }
   },
   "outputs": [
    {
     "name": "stdout",
     "output_type": "stream",
     "text": [
      "20085\n",
      "194\n"
     ]
    }
   ],
   "source": [
    "from collections import Counter\n",
    "c = Counter(list(ds['session_id']))\n",
    "print(len([i for i in c if c[i] > 1]))\n",
    "print(len([i for i in c if c[i] > 2]))"
   ]
  },
  {
   "cell_type": "markdown",
   "metadata": {
    "pycharm": {
     "name": "#%% md\n"
    }
   },
   "source": [
    "## Этап 2. Исследовательский анализ данных"
   ]
  },
  {
   "cell_type": "code",
   "execution_count": 85,
   "metadata": {
    "pycharm": {
     "name": "#%%\n"
    }
   },
   "outputs": [
    {
     "data": {
      "text/plain": "session_id      object\nclaim            int64\n60sec            int64\nscroll_90        int64\nhit_date        object\nreferer_url     object\nurl             object\nutm_source      object\nutm_medium      object\ngender           int64\nage              int64\ntouch_screen     int64\nhas_vk_id        int64\nhas_ok_id        int64\ndtype: object"
     },
     "execution_count": 85,
     "metadata": {},
     "output_type": "execute_result"
    }
   ],
   "source": [
    "# Проверим типы данных\n",
    "ds.dtypes"
   ]
  },
  {
   "cell_type": "code",
   "execution_count": 86,
   "outputs": [
    {
     "data": {
      "text/plain": "session_id              object\nclaim                     bool\n60sec                     bool\nscroll_90                 bool\nhit_date        datetime64[ns]\nreferer_url             object\nurl                     object\nutm_source              object\nutm_medium              object\ngender                   int64\nage                      int64\ntouch_screen             int64\nhas_vk_id                 bool\nhas_ok_id                 bool\ndtype: object"
     },
     "execution_count": 86,
     "metadata": {},
     "output_type": "execute_result"
    }
   ],
   "source": [
    "ds[['60sec','scroll_90','has_ok_id','has_vk_id','claim']] = ds[['60sec','scroll_90','has_ok_id','has_vk_id','claim']].astype(bool)\n",
    "ds[['referer_url','url','utm_source','utm_medium']] = ds[['referer_url','url','utm_source','utm_medium']].astype(str)\n",
    "ds['hit_date'] = pd.to_datetime(ds['hit_date'])\n",
    "origin_ds = ds.copy()\n",
    "ds.dtypes"
   ],
   "metadata": {
    "collapsed": false,
    "pycharm": {
     "name": "#%%\n"
    }
   }
  },
  {
   "cell_type": "markdown",
   "source": [
    "Разделим переходы на 3 категории\n",
    "- direct Прямой заход на сайт или переход с другой страницы сайта\n",
    "- ad Рекламный переход\n",
    "- search Переход из поиска\n",
    "\n",
    "Так же выделим основные типы страниц\n",
    "- courses Страница отдельного курса или списка курсов\n",
    "- edufree Бесплатные программы обучения\n",
    "- events Страница события\n",
    "- geek_university Страница факультета\n",
    "- posts Страница поста\n",
    "- partners Партнерские страницы\n",
    "- other Другие страницы"
   ],
   "metadata": {
    "collapsed": false,
    "pycharm": {
     "name": "#%% md\n"
    }
   }
  },
  {
   "cell_type": "code",
   "execution_count": null,
   "outputs": [],
   "source": [
    "def get_row_category(row):\n",
    "    # print(row.referer_url)\n",
    "    if 'gb.ru' in row.referer_url or not row.referer_url:\n",
    "        return 0#'direct'\n",
    "    if row.utm_source and row.utm_medium and row.utm_medium == 'email' and 'gb.ru' not in row.referer_url:\n",
    "        return 3#'email'\n",
    "    if row.utm_source and row.utm_medium and 'gb.ru' not in row.referer_url:\n",
    "        return 1#'ad'\n",
    "    return 2#'search'\n",
    "\n",
    "def get_row_url_type(row):\n",
    "    if '/courses' in row.url or '/it_dao' in row.url or '/geek-school' in row.url:\n",
    "        return 0#'courses'\n",
    "    if '/edufree' in row.url or '/start_digital' in row.url:\n",
    "        return 1#'edufree'\n",
    "    if '/events/' in row.url:\n",
    "        return 2#'events'\n",
    "    if '/geek_university/' in row.url or '/professions/' in row.url:\n",
    "        return 3#'geek_university'\n",
    "    if '/posts/' in row.url:\n",
    "        return 4#'posts'\n",
    "    if '/partners/' in row.url:\n",
    "        return 5#'partners'\n",
    "    if '/career' in row.url:\n",
    "        return 8#'career'\n",
    "    if row.url == 'https://gb.ru/':\n",
    "        return 7# index\n",
    "    return 6#'other'\n",
    "\n",
    "page_type_dict = {0:'courses', 1:'edufree',2:'events',3:'geek_university',4:'posts',5:'partners',6:'other', 7:'index', 8:'career'}\n",
    "visit_type_dict = {0:'direct',1:'ad',2:'search', 3:'email'}\n",
    "# print(ds['utm_source'].unique())\n",
    "# print(ds['utm_medium'].unique())\n",
    "ds['visit_type'] = ds.apply(get_row_category, axis=1)\n",
    "ds['page_type'] = ds.apply(get_row_url_type, axis=1)\n",
    "ds = ds.drop(['session_id', 'utm_medium', 'utm_source', 'url','referer_url'], axis=1)\n",
    "# Остальные страницы можно вырезать, т.к. они не представляют интереса или не имеют форм обратной связи\n",
    "ds = ds.loc[ds['page_type']!=6]"
   ],
   "metadata": {
    "collapsed": false,
    "pycharm": {
     "name": "#%%\n",
     "is_executing": true
    }
   }
  },
  {
   "cell_type": "markdown",
   "source": [
    "Разделим пользователей по возрастным группам\n",
    "- менее 20 лет\n",
    "- от 20 до 30\n",
    "- от 30 до 40\n",
    "- от 40 до 50\n",
    "- более 50"
   ],
   "metadata": {
    "collapsed": false,
    "pycharm": {
     "name": "#%% md\n"
    }
   }
  },
  {
   "cell_type": "code",
   "execution_count": null,
   "outputs": [],
   "source": [
    "def age_group(row):\n",
    "    if row.age == -1:\n",
    "        return -1\n",
    "    if row.age < 20:\n",
    "        return 0 # '< 20'\n",
    "    elif 20 <= row.age < 30:\n",
    "        return 1 # 20 - 30\n",
    "    elif 30 <= row.age < 40:\n",
    "        return 2 # 30 - 40\n",
    "    elif 40 <= row.age < 50:\n",
    "        return 3 # 40 - 50\n",
    "    else:\n",
    "        return 4 # > 50\n",
    "\n",
    "age_group_keys = {0:'< 20', 1:'20 - 30', 2:'30 - 40', 3:'40 - 50', 4: '> 50'}\n",
    "ds['age_group'] = ds.apply(age_group, axis=1)"
   ],
   "metadata": {
    "collapsed": false,
    "pycharm": {
     "name": "#%%\n",
     "is_executing": true
    }
   }
  },
  {
   "cell_type": "code",
   "execution_count": null,
   "outputs": [],
   "source": [
    "ds.head()"
   ],
   "metadata": {
    "collapsed": false,
    "pycharm": {
     "name": "#%%\n",
     "is_executing": true
    }
   }
  },
  {
   "cell_type": "code",
   "execution_count": null,
   "outputs": [],
   "source": [
    "# Обнаружение пропусков\n",
    "ds.isnull().sum()"
   ],
   "metadata": {
    "collapsed": false,
    "pycharm": {
     "name": "#%%\n",
     "is_executing": true
    }
   }
  },
  {
   "cell_type": "code",
   "execution_count": null,
   "outputs": [],
   "source": [
    "# Поиск выбросов и аномалий\n",
    "sns.boxplot(ds['age'])"
   ],
   "metadata": {
    "collapsed": false,
    "pycharm": {
     "name": "#%%\n",
     "is_executing": true
    }
   }
  },
  {
   "cell_type": "code",
   "execution_count": null,
   "outputs": [],
   "source": [
    "ds['age'] = ds['age'].apply(lambda x: -1 if x > 75 else x)"
   ],
   "metadata": {
    "collapsed": false,
    "pycharm": {
     "name": "#%%\n",
     "is_executing": true
    }
   }
  },
  {
   "cell_type": "code",
   "execution_count": null,
   "outputs": [],
   "source": [
    "plt.figure(figsize=(20,10))\n",
    "c= ds.corr()\n",
    "cor_matrix_mask = np.triu(np.ones_like(c, dtype=bool))\n",
    "sns.heatmap(c,cmap=\"BrBG\",annot=True, vmin=-1, vmax=1, mask=cor_matrix_mask)\n",
    "c"
   ],
   "metadata": {
    "collapsed": false,
    "pycharm": {
     "name": "#%%\n",
     "is_executing": true
    }
   }
  },
  {
   "cell_type": "code",
   "execution_count": null,
   "metadata": {
    "pycharm": {
     "name": "#%%\n",
     "is_executing": true
    }
   },
   "outputs": [],
   "source": [
    "## Этап 3. Статистический анализ данных"
   ]
  },
  {
   "cell_type": "code",
   "execution_count": null,
   "outputs": [],
   "source": [
    "c = ds[ds.claim==True].groupby('page_type')['page_type'].count().to_frame('counts').reset_index()\n",
    "c['page_type'] = c['page_type'].replace(page_type_dict)\n",
    "\n",
    "sns.barplot(x=c.page_type, y=c.counts)\n",
    "plt.xlabel('Тип страниц')\n",
    "plt.ylabel('Количество отправок форм по типам страниц')"
   ],
   "metadata": {
    "collapsed": false,
    "pycharm": {
     "name": "#%%\n",
     "is_executing": true
    }
   }
  },
  {
   "cell_type": "code",
   "execution_count": null,
   "metadata": {
    "pycharm": {
     "name": "#%%\n",
     "is_executing": true
    }
   },
   "outputs": [],
   "source": [
    "c = ds[ds.claim==True].groupby('visit_type')['visit_type'].count().to_frame('counts').reset_index()\n",
    "c['visit_type'] = c['visit_type'].replace(visit_type_dict)\n",
    "\n",
    "sns.barplot(x=c.visit_type, y=c.counts)\n",
    "plt.xlabel('Тип трафика')\n",
    "plt.ylabel('Количество отправок форм по источнику трафика')"
   ]
  },
  {
   "cell_type": "code",
   "execution_count": null,
   "outputs": [],
   "source": [
    "# Добавим параметр проявления интереса к странице\n",
    "ds['interes'] = ds[['60sec','scroll_90']].apply(lambda x: x['60sec'] and x['scroll_90'], axis=1)"
   ],
   "metadata": {
    "collapsed": false,
    "pycharm": {
     "name": "#%%\n",
     "is_executing": true
    }
   }
  },
  {
   "cell_type": "code",
   "execution_count": null,
   "outputs": [],
   "source": [
    "c = ds[['page_type', 'interes']].groupby(['page_type','interes']).size()\n",
    "c = c.to_frame('counts').reset_index()\n",
    "c = c[c['page_type']!=6]\n",
    "c = c[c['interes']==True]\n",
    "c['page_type'] = c['page_type'].replace(page_type_dict)\n",
    "sns.barplot(data=c, hue='page_type', x='interes', y='counts')\n",
    "c"
   ],
   "metadata": {
    "collapsed": false,
    "pycharm": {
     "name": "#%%\n",
     "is_executing": true
    }
   }
  },
  {
   "cell_type": "markdown",
   "source": [
    "Проверим использование соц сетей по возрасту"
   ],
   "metadata": {
    "collapsed": false,
    "pycharm": {
     "name": "#%% md\n"
    }
   }
  },
  {
   "cell_type": "code",
   "execution_count": null,
   "outputs": [],
   "source": [
    "\n",
    "tmp_ds = ds.copy()\n",
    "tmp_ds = tmp_ds.loc[~((tmp_ds['age']==-1) | (tmp_ds['gender']==-1))]\n",
    "tmp_ds = tmp_ds.replace({'gender': {0:'Male', 1:'Female'}})"
   ],
   "metadata": {
    "collapsed": false,
    "pycharm": {
     "name": "#%%\n",
     "is_executing": true
    }
   }
  },
  {
   "cell_type": "code",
   "source": [
    "from sklearn.preprocessing import MinMaxScaler\n",
    "scaler = MinMaxScaler()\n",
    "vk_plot_data = tmp_ds[tmp_ds['has_vk_id']==True].sort_values('age_group').groupby(['gender','age_group']).size().to_frame('counter').reset_index().sort_values('age_group')\n",
    "ok_plot_data = tmp_ds[tmp_ds['has_ok_id']==True].sort_values('age_group').groupby(['gender','age_group']).size().to_frame('counter').reset_index().sort_values('age_group')\n",
    "\n",
    "vk_plot_data = vk_plot_data.replace({'age_group': age_group_keys})\n",
    "ok_plot_data = ok_plot_data.replace({'age_group': age_group_keys})\n",
    "\n",
    "vk_plot_data['counter'] = scaler.fit_transform(vk_plot_data[['counter']])\n",
    "ok_plot_data['counter'] = scaler.fit_transform(ok_plot_data[['counter']])\n",
    "\n",
    "fig, axs = plt.subplots(nrows=1, ncols=2, figsize=(18,8))\n",
    "lp1 = sns.lineplot(x=\"age_group\", y='counter', hue='gender',\n",
    "                   data=vk_plot_data,\n",
    "                   ax=axs[0])\n",
    "lp2 = sns.lineplot(x=\"age_group\", y='counter', hue='gender', data=ok_plot_data, ax=axs[1])\n",
    "lp1.set_title('Использования ВК по возрастам')\n",
    "lp2.set_title('Использования Одноклассноков по возрастам')"
   ],
   "metadata": {
    "collapsed": false,
    "pycharm": {
     "name": "#%%\n",
     "is_executing": true
    }
   },
   "execution_count": null,
   "outputs": []
  },
  {
   "cell_type": "raw",
   "source": [
    "Соотношение отправленных заявок по дням недели"
   ],
   "metadata": {
    "collapsed": false
   }
  },
  {
   "cell_type": "code",
   "execution_count": null,
   "outputs": [],
   "source": [
    "import calendar\n",
    "del(tmp_ds)\n",
    "del(vk_plot_data)\n",
    "del(ok_plot_data)\n",
    "# ds['weekday'] = ds['hit_date'].apply(lambda x: calendar.day_name[x.weekday()])\n",
    "ds['weekday'] = ds['hit_date'].apply(lambda x: x.weekday())\n",
    "sns.barplot(data=ds[ds['claim']==True].groupby('weekday').size().to_frame('counter').reset_index(), x='weekday', y='counter')\n",
    "# Относительно ровно"
   ],
   "metadata": {
    "collapsed": false,
    "pycharm": {
     "name": "#%%\n",
     "is_executing": true
    }
   }
  },
  {
   "cell_type": "markdown",
   "source": [
    "Проверим какая возрастная группа чаще отправляет заявки"
   ],
   "metadata": {
    "collapsed": false,
    "pycharm": {
     "name": "#%% md\n"
    }
   }
  },
  {
   "cell_type": "code",
   "execution_count": null,
   "outputs": [],
   "source": [
    "tmp_ds = ds[ds['gender']!=-1] # отсеим тех чей пол неизвестен\n",
    "tmp_ds = tmp_ds[tmp_ds['claim']==True].groupby(['age_group','gender']).size().to_frame('counter').reset_index()\n",
    "\n",
    "tmp_ds = tmp_ds.replace({'age_group': age_group_keys,'gender':{0:'Male', 1:'Female'}})\n",
    "sns.barplot(data=tmp_ds, x='age_group', y='counter', hue='gender')\n",
    "\n",
    "plt.xlabel('Возрастная группа')\n",
    "plt.ylabel('Количество отправок форм')"
   ],
   "metadata": {
    "collapsed": false,
    "pycharm": {
     "name": "#%%\n",
     "is_executing": true
    }
   }
  },
  {
   "cell_type": "markdown",
   "source": [
    "Как видно из графика чаще всего формы отправляют люди от 20 до 40"
   ],
   "metadata": {
    "collapsed": false,
    "pycharm": {
     "name": "#%% md\n"
    }
   }
  },
  {
   "cell_type": "markdown",
   "metadata": {
    "pycharm": {
     "name": "#%% md\n"
    }
   },
   "source": [
    "## Этап 4. Предобработка данных (обработка пропусков, аномалий)"
   ]
  },
  {
   "cell_type": "raw",
   "metadata": {
    "pycharm": {
     "name": "#%% raw\n"
    }
   },
   "source": [
    "Предобработка данных выполненна по ходу задания"
   ]
  },
  {
   "cell_type": "markdown",
   "metadata": {
    "pycharm": {
     "name": "#%% md\n"
    }
   },
   "source": [
    "## Этап 5. Построение воронки клиентов"
   ]
  },
  {
   "cell_type": "markdown",
   "source": [
    "Воронка:\n",
    "- всего пользователей с группировкой по источнику трафика\n",
    "- проявили интерес к странице\n",
    "- отправили заявку"
   ],
   "metadata": {
    "collapsed": false,
    "pycharm": {
     "name": "#%% md\n"
    }
   }
  },
  {
   "cell_type": "code",
   "execution_count": null,
   "outputs": [],
   "source": [
    "quantity = []\n",
    "# tmp_ds = ds[(ds['age_group'] == 1) | (ds['age_group'] == 2) ]\n",
    "# tmp_ds = ds[ds['interes'] == True]\n",
    "# print(set(ds['visit_type'].tolist()))\n",
    "for vt in set(ds['visit_type'].tolist()):\n",
    "    tmp = ds[ds['visit_type']==vt]\n",
    "    quantity.append(tmp.shape[0])\n",
    "\n",
    "    tmp = tmp[tmp['60sec']==True]\n",
    "    quantity.append(tmp.shape[0])\n",
    "\n",
    "    tmp = tmp[tmp['scroll_90']==True]\n",
    "    quantity.append(tmp.shape[0])\n",
    "\n",
    "    tmp = tmp[tmp['claim']==True]\n",
    "    quantity.append(tmp.shape[0])\n",
    "    # print(vt)\n",
    "# ds[ds['visit_type']==0].shape[0]\n",
    "quantity"
   ],
   "metadata": {
    "collapsed": false,
    "pycharm": {
     "name": "#%%\n",
     "is_executing": true
    }
   }
  },
  {
   "cell_type": "code",
   "execution_count": null,
   "metadata": {
    "pycharm": {
     "name": "#%%\n",
     "is_executing": true
    }
   },
   "outputs": [],
   "source": [
    "import plotly\n",
    "from IPython.display import Image\n",
    "\n",
    "data = dict(Quantity=quantity,\n",
    "            Stage=['Всего пользователей', '60 сек', 'Скролл 90%', 'Отправили заявку']*3,\n",
    "            Location= ['Директ']*4 + ['Рекламный трафик']*4 + ['Email']*4)\n",
    "\n",
    "fig = plotly.express.funnel(data, y='Stage', x='Quantity', color='Location',\n",
    "                color_discrete_map={\"Рекламный трафик\": \"#374B53\",\n",
    "                                    \"Директ\": \"#617588\"},\n",
    "                template=\"simple_white\",\n",
    "                title='Воронка продаж',\n",
    "                labels={\"Stage\": \"\"})\n",
    "Image(plotly.io.to_image(fig, format=\"png\", width=600, height=350, scale=2))"
   ]
  },
  {
   "cell_type": "markdown",
   "source": [
    "Страшная воронка..."
   ],
   "metadata": {
    "collapsed": false,
    "pycharm": {
     "name": "#%% md\n"
    }
   }
  },
  {
   "cell_type": "markdown",
   "metadata": {
    "pycharm": {
     "name": "#%% md\n"
    }
   },
   "source": [
    "## Этап 6. Выявление инсайтов в данных"
   ]
  },
  {
   "cell_type": "markdown",
   "metadata": {
    "pycharm": {
     "name": "#%% md\n"
    }
   },
   "source": [
    "#### Какие действия клиенты GB совершают чаще всего?"
   ]
  },
  {
   "cell_type": "code",
   "execution_count": null,
   "outputs": [],
   "source": [
    "origin_ds.groupby('url').size().to_frame('count').reset_index().sort_values('count', ascending=False)[:5]"
   ],
   "metadata": {
    "collapsed": false,
    "pycharm": {
     "name": "#%%\n",
     "is_executing": true
    }
   }
  },
  {
   "cell_type": "raw",
   "source": [
    "Вывод: чаще всего пользователи посещают раздел \"Моё обучение\", главную страницу сайта и бесплатных курсов"
   ],
   "metadata": {
    "collapsed": false,
    "pycharm": {
     "name": "#%% raw\n"
    }
   }
  },
  {
   "cell_type": "markdown",
   "source": [
    "#### Есть ли аномалии в поведении пользователей: например, большое число коротких (менее 60 с.) сессий? С чем эти аномалии могут быть связаны?"
   ],
   "metadata": {
    "collapsed": false,
    "pycharm": {
     "name": "#%% md\n"
    }
   }
  },
  {
   "cell_type": "code",
   "execution_count": null,
   "outputs": [],
   "source": [
    "origin_ds.groupby('60sec').size().to_frame('count').reset_index()"
   ],
   "metadata": {
    "collapsed": false,
    "pycharm": {
     "name": "#%%\n",
     "is_executing": true
    }
   }
  },
  {
   "cell_type": "code",
   "execution_count": null,
   "outputs": [],
   "source": [
    "ds.groupby('60sec').size().to_frame('count').reset_index()"
   ],
   "metadata": {
    "collapsed": false,
    "pycharm": {
     "name": "#%%\n",
     "is_executing": true
    }
   }
  },
  {
   "cell_type": "markdown",
   "source": [
    "Для начала очень много событий с тестовых или локальных копий проекта, плюс тут собираются заходы администраторов, тестировщиков и прочего персонала, так же короткие сессии могут быть связанны с скликиванием рекламы ботами и соперниками или пользователями которые случайно зашли."
   ],
   "metadata": {
    "collapsed": false,
    "pycharm": {
     "name": "#%% md\n"
    }
   }
  },
  {
   "cell_type": "markdown",
   "source": [
    "#### На каких страницах прокрутка 90% и более?"
   ],
   "metadata": {
    "collapsed": false,
    "pycharm": {
     "name": "#%% md\n"
    }
   },
   "execution_count": 187
  },
  {
   "cell_type": "code",
   "execution_count": null,
   "outputs": [],
   "source": [
    "origin_ds[origin_ds['scroll_90'] == True].groupby('url').size().to_frame('count').reset_index().sort_values('count', ascending=False)[:5]"
   ],
   "metadata": {
    "collapsed": false,
    "pycharm": {
     "name": "#%%\n",
     "is_executing": true
    }
   }
  },
  {
   "cell_type": "markdown",
   "source": [
    "И опять в топе страницы бесплатных курсов, и почему то чат, хотя чат открывается в полноэкраном режиме без скрола (не считая внутренего с сообщениями).\n",
    "По моему на таких страницах как календарь, чат считать скролл крайне странное решение"
   ],
   "metadata": {
    "collapsed": false,
    "pycharm": {
     "name": "#%% md\n"
    }
   }
  },
  {
   "cell_type": "markdown",
   "source": [
    "#### В какие даты было больше всего сессий? Рассчитайте DAU, MAU, WAU.\n",
    "Статистика всего за 4 дня :)"
   ],
   "metadata": {
    "collapsed": false,
    "pycharm": {
     "name": "#%% md\n"
    }
   }
  },
  {
   "cell_type": "code",
   "execution_count": null,
   "outputs": [],
   "source": [
    "origin_ds.groupby('hit_date').size().to_frame('count').reset_index().sort_values('count', ascending=False)"
   ],
   "metadata": {
    "collapsed": false,
    "pycharm": {
     "name": "#%%\n",
     "is_executing": true
    }
   }
  },
  {
   "cell_type": "markdown",
   "source": [
    "Больше всего сессий было 2021-12-02"
   ],
   "metadata": {
    "collapsed": false,
    "pycharm": {
     "name": "#%% md\n"
    }
   }
  },
  {
   "cell_type": "markdown",
   "source": [
    "#### Какие изменения на сайте могут улучшить показатели: число посещений, длительность сессии и другие?\n",
    "Тут перед тем как делать выводы о улучшении сайта необходимо получить нормальный лог, параметров крайне мало и многие не информативны.\n",
    "Улучшить лог достаточно просто, сделать привязку к пользователю а не к сессии, считать не просто длительность 60 сек, а длительность всей сессии, или добавить ещё 2 поля 30сек, 5сек, таким образом можно будет сразу убрать кучу мусора в виде сессий которые длились меньше 15 секунд. Так же лучше использовать не просто параметр тачскрин, а устройство с которого зашел пользователь, там сразу неопеределнность с тачскрином пропадёт.\n",
    "По поводу использования пользователей вместо сессий ситуация решается просто, используется или ид пользователя, если он залогинен, или используется технология browser fingerprint для анонимов\n",
    "\n",
    "Как можно видеть по графикам выше больше всего люди проявляют интерес не к отдельному курсу, а его набору или факультетам, а так же к бесплатным курсам. Для привлечения можно людей и увеличения конверсионости можно использовать таргетированную рекламу, как видим больше всего откликов у мужчин 20-40 лет. Так же, с учетом интереса к бесплатным курсам можно расширить их количество или сделать условно бесплатные курсы, т.е. давать бесплатный доступ до определенного момента."
   ],
   "metadata": {
    "collapsed": false,
    "pycharm": {
     "name": "#%% md\n"
    }
   }
  }
 ],
 "metadata": {
  "celltoolbar": "Отсутствует",
  "kernelspec": {
   "display_name": "Python 3 (ipykernel)",
   "language": "python",
   "name": "python3"
  },
  "language_info": {
   "codemirror_mode": {
    "name": "ipython",
    "version": 3
   },
   "file_extension": ".py",
   "mimetype": "text/x-python",
   "name": "python",
   "nbconvert_exporter": "python",
   "pygments_lexer": "ipython3",
   "version": "3.8.10"
  }
 },
 "nbformat": 4,
 "nbformat_minor": 1
}