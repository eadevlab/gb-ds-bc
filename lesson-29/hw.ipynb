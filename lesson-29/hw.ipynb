{
 "cells": [
  {
   "cell_type": "markdown",
   "metadata": {
    "id": "T5LIrOBopZg8"
   },
   "source": [
    "# Практическое задание"
   ]
  },
  {
   "cell_type": "markdown",
   "metadata": {
    "id": "LImDg_25VlLn"
   },
   "source": [
    "Визуализация набора данных MNIST"
   ]
  },
  {
   "cell_type": "code",
   "execution_count": null,
   "metadata": {
    "id": "hAERN4vDVlLn"
   },
   "outputs": [],
   "source": [
    "from sklearn import datasets\n",
    "\n",
    "\n",
    "digits = datasets.load_digits()\n",
    "X = digits.data\n",
    "y = digits.target"
   ]
  },
  {
   "cell_type": "code",
   "execution_count": null,
   "metadata": {
    "colab": {
     "base_uri": "https://localhost:8080/"
    },
    "executionInfo": {
     "elapsed": 8,
     "status": "ok",
     "timestamp": 1660629650562,
     "user": {
      "displayName": "Julia Ponomareva",
      "userId": "14904333240138417226"
     },
     "user_tz": -300
    },
    "id": "NQS1O4vyVlLo",
    "outputId": "f07620b0-71a7-426c-f97b-386728dcc6ab"
   },
   "outputs": [
    {
     "data": {
      "text/plain": [
       "array([0, 1, 2, 3, 4, 5, 6, 7, 8, 9])"
      ]
     },
     "execution_count": 70,
     "metadata": {},
     "output_type": "execute_result"
    }
   ],
   "source": [
    "y[:10]"
   ]
  },
  {
   "cell_type": "code",
   "execution_count": null,
   "metadata": {
    "colab": {
     "base_uri": "https://localhost:8080/"
    },
    "executionInfo": {
     "elapsed": 7,
     "status": "ok",
     "timestamp": 1660629651284,
     "user": {
      "displayName": "Julia Ponomareva",
      "userId": "14904333240138417226"
     },
     "user_tz": -300
    },
    "id": "Z5dsg4gBVlLo",
    "outputId": "6c3261e7-4c30-4bc1-8560-cece8837dd85"
   },
   "outputs": [
    {
     "data": {
      "text/plain": [
       "(1797, 64)"
      ]
     },
     "execution_count": 71,
     "metadata": {},
     "output_type": "execute_result"
    }
   ],
   "source": [
    "X.shape"
   ]
  },
  {
   "cell_type": "code",
   "execution_count": null,
   "metadata": {
    "colab": {
     "base_uri": "https://localhost:8080/",
     "height": 374
    },
    "executionInfo": {
     "elapsed": 540,
     "status": "ok",
     "timestamp": 1660629652620,
     "user": {
      "displayName": "Julia Ponomareva",
      "userId": "14904333240138417226"
     },
     "user_tz": -300
    },
    "id": "laDrsBkcVlLo",
    "outputId": "255dcf7d-f5f1-4b97-aace-e19c8c22e343"
   },
   "outputs": [
    {
     "data": {
      "image/png": "[encoded data removed]",
      "text/plain": [
       "<Figure size 1152x432 with 10 Axes>"
      ]
     },
     "metadata": {
      "needs_background": "light"
     },
     "output_type": "display_data"
    }
   ],
   "source": [
    "import matplotlib.pyplot as plt\n",
    "\n",
    "plt.figure(figsize=(16, 6))\n",
    "for i in range(10):\n",
    "    plt.subplot(2, 5, i + 1)\n",
    "    plt.imshow(X[i,:].reshape([8,8]))"
   ]
  },
  {
   "cell_type": "markdown",
   "metadata": {
    "id": "B7dA1qOANrev"
   },
   "source": [
    "### train test split"
   ]
  },
  {
   "cell_type": "code",
   "execution_count": null,
   "metadata": {
    "id": "jRNAmisQNti1"
   },
   "outputs": [],
   "source": [
    "from sklearn.model_selection import train_test_split\n",
    "X_train, X_test, y_train, y_test = train_test_split(X, y, random_state=1, test_size=0.2)"
   ]
  },
  {
   "cell_type": "markdown",
   "metadata": {
    "id": "Y--l2va_Noe_"
   },
   "source": [
    "## Обучение модели"
   ]
  },
  {
   "cell_type": "code",
   "execution_count": null,
   "metadata": {},
   "outputs": [],
   "source": [
    "from sklearn.tree import DecisionTreeClassifier\n",
    "\n",
    "model = DecisionTreeClassifier(random_state=1)\n",
    "model.fit(X_train, y_train)\n",
    "pred_train = model.predict(X_train)"
   ]
  },
  {
   "cell_type": "markdown",
   "metadata": {
    "id": "k9WGbeh9NofP"
   },
   "source": [
    "## Валидация"
   ]
  },
  {
   "cell_type": "code",
   "execution_count": null,
   "metadata": {},
   "outputs": [],
   "source": [
    "from sklearn.cross_validation import cross_val_score\n",
    "scores = cross_val_score(estimator=clf, X=X, y=y, cv=7, n_jobs=4)\n",
    "scores.mean()"
   ]
  },
  {
   "cell_type": "markdown",
   "metadata": {
    "id": "gA9gDNIzNofW"
   },
   "source": [
    "## Снижение переобучения"
   ]
  },
  {
   "cell_type": "markdown",
   "metadata": {
    "id": "A1cUpq6bNofa"
   },
   "source": [
    "## Валидация"
   ]
  },
  {
   "cell_type": "markdown",
   "metadata": {
    "id": "Qe-YPUoT2lmf"
   },
   "source": [
    "# Дополнительные материалы:\n",
    "1. Дерево решений для задачи регрессии https://youtu.be/0mMeaC3gjNI\n",
    "2. Дерево решений для задачи классификации https://youtu.be/j8L07nuns2Y\n",
    "3. Критерии останова для дерева решений https://youtu.be/aWEdaXAZ01M\n",
    "4. Метрика accuracy https://youtu.be/CCH-1gJo_z0\n",
    "5. Переобучение/недообучение https://youtu.be/m7P7bnLxIc4"
   ]
  }
 ],
 "metadata": {
  "colab": {
   "collapsed_sections": [],
   "provenance": [],
   "toc_visible": true
  },
  "kernelspec": {
   "display_name": "Python 3 (ipykernel)",
   "language": "python",
   "name": "python3"
  },
  "language_info": {
   "codemirror_mode": {
    "name": "ipython",
    "version": 3
   },
   "file_extension": ".py",
   "mimetype": "text/x-python",
   "name": "python",
   "nbconvert_exporter": "python",
   "pygments_lexer": "ipython3",
   "version": "3.8.10"
  }
 },
 "nbformat": 4,
 "nbformat_minor": 1
}
